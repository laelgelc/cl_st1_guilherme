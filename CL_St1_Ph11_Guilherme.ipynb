{
 "cells": [
  {
   "cell_type": "markdown",
   "id": "810d9f10-ec19-4b09-8f90-e983e460b319",
   "metadata": {},
   "source": [
    "<center>\n",
    "<img src=\"https://laelgelcpublic.s3.sa-east-1.amazonaws.com/lael_50_years_narrow_white.png.no_years.400px_96dpi.png\" width=\"300\" alt=\"LAEL 50 years logo\">\n",
    "<h3>APPLIED LINGUISTICS GRADUATE PROGRAMME (LAEL)</h3>\n",
    "</center>\n",
    "<hr>"
   ]
  },
  {
   "cell_type": "markdown",
   "id": "888c2c96-2fc3-4a1a-995b-c388036a2a15",
   "metadata": {},
   "source": [
    "# Corpus Linguistics - Study 1 - Phase 1_1 - Guilherme"
   ]
  },
  {
   "cell_type": "markdown",
   "id": "efff8d8b-6456-4379-974e-d85ffe03bc6e",
   "metadata": {},
   "source": [
    "This solution responds to the requirement of adding the part-of-speech (POS) tag as a suffix to the lemmas determined by TreeTagger.\n",
    "\n",
    "It takes the file `tweets/tagged.txt` as input, performs the appropriate string transformations and returns `tweets/tagged2.txt` as output. Therefore, the solution should be executed after the execution of `treetagging.sh` is completed.\n",
    "\n",
    "Before moving on to running `tokenstypes.sh`, `tweets/tagged2.txt` should replace `tweets/tagged.txt` as shown below:\n",
    "\n",
    "```\n",
    "(my_env) eyamrog@Rog-ASUS:~/work/cl_st1_renata/tweets$ ll\n",
    "total 33172\n",
    "drwxr-xr-x 2 eyamrog eyamrog     4096 Sep 11 17:32 ./\n",
    "drwxr-xr-x 5 eyamrog eyamrog     4096 Sep 11 17:45 ../\n",
    "-rw-r--r-- 1 eyamrog eyamrog    89062 Sep 11 14:40 tagged.txt\n",
    "-rw-r--r-- 1 eyamrog eyamrog    99405 Sep 11 17:34 tagged2.txt\n",
    "-rw-r--r-- 1 eyamrog eyamrog 16842002 Sep 11 14:38 tweets.txt\n",
    "-rw-r--r-- 1 eyamrog eyamrog 16924433 Sep 11 14:20 tweets_ori.txt\n",
    "(my_env) eyamrog@Rog-ASUS:~/work/cl_st1_renata/tweets$ mv tagged.txt tagged_ori.txt\n",
    "(my_env) eyamrog@Rog-ASUS:~/work/cl_st1_renata/tweets$ mv tagged2.txt tagged.txt\n",
    "(my_env) eyamrog@Rog-ASUS:~/work/cl_st1_renata/tweets$ ll\n",
    "total 33172\n",
    "drwxr-xr-x 2 eyamrog eyamrog     4096 Sep 11 17:46 ./\n",
    "drwxr-xr-x 5 eyamrog eyamrog     4096 Sep 11 17:45 ../\n",
    "-rw-r--r-- 1 eyamrog eyamrog    99405 Sep 11 17:34 tagged.txt\n",
    "-rw-r--r-- 1 eyamrog eyamrog    89062 Sep 11 14:40 tagged_ori.txt\n",
    "-rw-r--r-- 1 eyamrog eyamrog 16842002 Sep 11 14:38 tweets.txt\n",
    "-rw-r--r-- 1 eyamrog eyamrog 16924433 Sep 11 14:20 tweets_ori.txt\n",
    "(my_env) eyamrog@Rog-ASUS:~/work/cl_st1_renata/tweets$ \n",
    "```"
   ]
  },
  {
   "cell_type": "markdown",
   "id": "d81a22bd-0059-4578-bfc6-29ecef3d2a6d",
   "metadata": {},
   "source": [
    "## Importing the required libraries"
   ]
  },
  {
   "cell_type": "code",
   "execution_count": 1,
   "id": "80dde47b-60e9-4001-9587-cac5fac2cdfe",
   "metadata": {},
   "outputs": [],
   "source": [
    "import pandas as pd\n",
    "import re"
   ]
  },
  {
   "cell_type": "markdown",
   "id": "b301ddf9-3758-42ba-9a6f-c1dd316ded08",
   "metadata": {},
   "source": [
    "## Importing `tweets/tagged.txt` into a DataFrame"
   ]
  },
  {
   "cell_type": "code",
   "execution_count": 2,
   "id": "9667e92f-5454-43fa-9d0c-2f5a77bf86c5",
   "metadata": {},
   "outputs": [],
   "source": [
    "df = pd.read_csv('tweets/tagged.txt', sep='|', names=['text_id', 'conversation', 'date', 'user', 'content'])"
   ]
  },
  {
   "cell_type": "code",
   "execution_count": 3,
   "id": "27649345-825e-4012-82e6-6f845de163ef",
   "metadata": {},
   "outputs": [
    {
     "data": {
      "text/html": [
       "<div>\n",
       "<style scoped>\n",
       "    .dataframe tbody tr th:only-of-type {\n",
       "        vertical-align: middle;\n",
       "    }\n",
       "\n",
       "    .dataframe tbody tr th {\n",
       "        vertical-align: top;\n",
       "    }\n",
       "\n",
       "    .dataframe thead th {\n",
       "        text-align: right;\n",
       "    }\n",
       "</style>\n",
       "<table border=\"1\" class=\"dataframe\">\n",
       "  <thead>\n",
       "    <tr style=\"text-align: right;\">\n",
       "      <th></th>\n",
       "      <th>text_id</th>\n",
       "      <th>conversation</th>\n",
       "      <th>date</th>\n",
       "      <th>user</th>\n",
       "      <th>content</th>\n",
       "    </tr>\n",
       "  </thead>\n",
       "  <tbody>\n",
       "    <tr>\n",
       "      <th>0</th>\n",
       "      <td>t000000</td>\n",
       "      <td>v:cl_st1_guilherme-dataset-output/MALAFAIA_RES...</td>\n",
       "      <td>d:2024-04-16</td>\n",
       "      <td>u:silas_malafaia</td>\n",
       "      <td>c:e\\tCCONJ\\te~a\\tDET.Fem.Sing\\to~Bíblia\\tPROPN...</td>\n",
       "    </tr>\n",
       "    <tr>\n",
       "      <th>1</th>\n",
       "      <td>t000001</td>\n",
       "      <td>v:cl_st1_guilherme-dataset-output/MALAFAIA_RES...</td>\n",
       "      <td>d:2024-04-16</td>\n",
       "      <td>u:silas_malafaia</td>\n",
       "      <td>c:e\\tCCONJ\\te~eu\\tPRON.Sing\\teu~não\\tADV\\tnão~...</td>\n",
       "    </tr>\n",
       "    <tr>\n",
       "      <th>2</th>\n",
       "      <td>t000002</td>\n",
       "      <td>v:cl_st1_guilherme-dataset-output/MALAFAIA_RES...</td>\n",
       "      <td>d:2024-04-16</td>\n",
       "      <td>u:silas_malafaia</td>\n",
       "      <td>c:eu\\tPRON.Fem.Sing\\teu~vou\\tAUX.Fin.Sing\\tir~...</td>\n",
       "    </tr>\n",
       "    <tr>\n",
       "      <th>3</th>\n",
       "      <td>t000003</td>\n",
       "      <td>v:cl_st1_guilherme-dataset-output/MALAFAIA_RES...</td>\n",
       "      <td>d:2024-04-16</td>\n",
       "      <td>u:silas_malafaia</td>\n",
       "      <td>c:e\\tCCONJ\\te~decida\\tVERB.Fin.Sing\\tdecidir~s...</td>\n",
       "    </tr>\n",
       "    <tr>\n",
       "      <th>4</th>\n",
       "      <td>t000004</td>\n",
       "      <td>v:cl_st1_guilherme-dataset-output/MOTIVACIONAL...</td>\n",
       "      <td>d:2024-04-16</td>\n",
       "      <td>u:silas_malafaia</td>\n",
       "      <td>c:e\\tCCONJ\\te~você\\tPRON.Sing\\tvocê~vai\\tAUX.F...</td>\n",
       "    </tr>\n",
       "    <tr>\n",
       "      <th>...</th>\n",
       "      <td>...</td>\n",
       "      <td>...</td>\n",
       "      <td>...</td>\n",
       "      <td>...</td>\n",
       "      <td>...</td>\n",
       "    </tr>\n",
       "    <tr>\n",
       "      <th>1806</th>\n",
       "      <td>t001806</td>\n",
       "      <td>v:cl_st1_guilherme-dataset-output/MINUTOS_DE_V...</td>\n",
       "      <td>d:2024-04-16</td>\n",
       "      <td>u:silas_malafaia</td>\n",
       "      <td>c:a\\tDET.Fem.Sing\\to~visão\\tNOUN.Fem.Sing\\tvis...</td>\n",
       "    </tr>\n",
       "    <tr>\n",
       "      <th>1807</th>\n",
       "      <td>t001807</td>\n",
       "      <td>v:cl_st1_guilherme-dataset-output/MINUTOS_DE_V...</td>\n",
       "      <td>d:2024-04-16</td>\n",
       "      <td>u:silas_malafaia</td>\n",
       "      <td>c:conseguiu\\tVERB.Fin.Sing\\tconseguir~garantir...</td>\n",
       "    </tr>\n",
       "    <tr>\n",
       "      <th>1808</th>\n",
       "      <td>t001808</td>\n",
       "      <td>v:cl_st1_guilherme-dataset-output/MINUTOS_DE_V...</td>\n",
       "      <td>d:2024-04-16</td>\n",
       "      <td>u:silas_malafaia</td>\n",
       "      <td>c:é\\tAUX.Fin.Sing\\tser~o\\tDET.Masc.Sing\\to~des...</td>\n",
       "    </tr>\n",
       "    <tr>\n",
       "      <th>1809</th>\n",
       "      <td>t001809</td>\n",
       "      <td>v:cl_st1_guilherme-dataset-output/MINUTOS_DE_V...</td>\n",
       "      <td>d:2024-04-16</td>\n",
       "      <td>u:silas_malafaia</td>\n",
       "      <td>c:características\\tNOUN.Fem.Plur\\tcaracterísti...</td>\n",
       "    </tr>\n",
       "    <tr>\n",
       "      <th>1810</th>\n",
       "      <td>t001810</td>\n",
       "      <td>v:cl_st1_guilherme-dataset-output/MINUTOS_DE_V...</td>\n",
       "      <td>d:2024-04-16</td>\n",
       "      <td>u:silas_malafaia</td>\n",
       "      <td>c:Considere\\tVERB.Fin.Sing\\tconsiderar~isso\\tP...</td>\n",
       "    </tr>\n",
       "  </tbody>\n",
       "</table>\n",
       "<p>1811 rows × 5 columns</p>\n",
       "</div>"
      ],
      "text/plain": [
       "      text_id                                       conversation  \\\n",
       "0     t000000  v:cl_st1_guilherme-dataset-output/MALAFAIA_RES...   \n",
       "1     t000001  v:cl_st1_guilherme-dataset-output/MALAFAIA_RES...   \n",
       "2     t000002  v:cl_st1_guilherme-dataset-output/MALAFAIA_RES...   \n",
       "3     t000003  v:cl_st1_guilherme-dataset-output/MALAFAIA_RES...   \n",
       "4     t000004  v:cl_st1_guilherme-dataset-output/MOTIVACIONAL...   \n",
       "...       ...                                                ...   \n",
       "1806  t001806  v:cl_st1_guilherme-dataset-output/MINUTOS_DE_V...   \n",
       "1807  t001807  v:cl_st1_guilherme-dataset-output/MINUTOS_DE_V...   \n",
       "1808  t001808  v:cl_st1_guilherme-dataset-output/MINUTOS_DE_V...   \n",
       "1809  t001809  v:cl_st1_guilherme-dataset-output/MINUTOS_DE_V...   \n",
       "1810  t001810  v:cl_st1_guilherme-dataset-output/MINUTOS_DE_V...   \n",
       "\n",
       "              date              user  \\\n",
       "0     d:2024-04-16  u:silas_malafaia   \n",
       "1     d:2024-04-16  u:silas_malafaia   \n",
       "2     d:2024-04-16  u:silas_malafaia   \n",
       "3     d:2024-04-16  u:silas_malafaia   \n",
       "4     d:2024-04-16  u:silas_malafaia   \n",
       "...            ...               ...   \n",
       "1806  d:2024-04-16  u:silas_malafaia   \n",
       "1807  d:2024-04-16  u:silas_malafaia   \n",
       "1808  d:2024-04-16  u:silas_malafaia   \n",
       "1809  d:2024-04-16  u:silas_malafaia   \n",
       "1810  d:2024-04-16  u:silas_malafaia   \n",
       "\n",
       "                                                content  \n",
       "0     c:e\\tCCONJ\\te~a\\tDET.Fem.Sing\\to~Bíblia\\tPROPN...  \n",
       "1     c:e\\tCCONJ\\te~eu\\tPRON.Sing\\teu~não\\tADV\\tnão~...  \n",
       "2     c:eu\\tPRON.Fem.Sing\\teu~vou\\tAUX.Fin.Sing\\tir~...  \n",
       "3     c:e\\tCCONJ\\te~decida\\tVERB.Fin.Sing\\tdecidir~s...  \n",
       "4     c:e\\tCCONJ\\te~você\\tPRON.Sing\\tvocê~vai\\tAUX.F...  \n",
       "...                                                 ...  \n",
       "1806  c:a\\tDET.Fem.Sing\\to~visão\\tNOUN.Fem.Sing\\tvis...  \n",
       "1807  c:conseguiu\\tVERB.Fin.Sing\\tconseguir~garantir...  \n",
       "1808  c:é\\tAUX.Fin.Sing\\tser~o\\tDET.Masc.Sing\\to~des...  \n",
       "1809  c:características\\tNOUN.Fem.Plur\\tcaracterísti...  \n",
       "1810  c:Considere\\tVERB.Fin.Sing\\tconsiderar~isso\\tP...  \n",
       "\n",
       "[1811 rows x 5 columns]"
      ]
     },
     "execution_count": 3,
     "metadata": {},
     "output_type": "execute_result"
    }
   ],
   "source": [
    "df"
   ]
  },
  {
   "cell_type": "code",
   "execution_count": 4,
   "id": "e582fe15-3b12-4966-9036-86460e0df513",
   "metadata": {},
   "outputs": [
    {
     "data": {
      "text/plain": [
       "text_id         object\n",
       "conversation    object\n",
       "date            object\n",
       "user            object\n",
       "content         object\n",
       "dtype: object"
      ]
     },
     "execution_count": 4,
     "metadata": {},
     "output_type": "execute_result"
    }
   ],
   "source": [
    "df.dtypes"
   ]
  },
  {
   "cell_type": "markdown",
   "id": "4b0d2cf7-8d76-40cc-a0fd-48859305cf1d",
   "metadata": {},
   "source": [
    "### Inspecting a few texts"
   ]
  },
  {
   "cell_type": "code",
   "execution_count": 5,
   "id": "a0197402-1e98-4f53-979d-e28fe0e5d1da",
   "metadata": {},
   "outputs": [
    {
     "data": {
      "text/plain": [
       "'c:e\\tCCONJ\\te~eu\\tPRON.Sing\\teu~não\\tADV\\tnão~vou\\tAUX.Fin.Sing\\tir~me\\tPRON.Masc.Sing\\teu~calar\\tVERB.Inf\\tcalar~por\\tADP\\tpor~uma\\tDET.Fem.Sing\\tum~série\\tNOUN.Fem.Sing\\tsérie~de\\tADP\\tde~coisas\\tNOUN.Fem.Plur\\tcoisa~primeiro\\tADV\\tprimeiro~que\\tSCONJ\\tque~química\\tNOUN.Fem.Sing\\tquímica~é\\tADP\\té~teus\\tNOUN.Masc.Plur\\tteu~é\\tAUX.Fin.Sing\\tser~aquele\\tPRON.Masc.Sing\\taquele~cala\\tVERB.Fin.Sing\\tcalar~tudo\\tPRON.Masc.Sing\\ttudo~é\\tAUX.Fin.Sing\\tser~12\\tNUM\\t12~eu\\tPRON.Sing\\teu~sou\\tAUX.Fin.Sing\\tser~a\\tDET.Fem.Sing\\to~voz\\tNOUN.Fem.Sing\\tvoz~profética\\tADJ.Fem.Sing\\tprofético~voz\\tNOUN.Fem.Sing\\tvoz~profética\\tADJ.Fem.Sing\\tprofético~não\\tADV\\tnão~se\\tPRON\\tse~cala\\tVERB.Fin.Sing\\tcalar~questiona\\tVERB.Fin.Sing\\tquestionar~eu\\tPRON.Sing\\teu~tô\\tNOUN.Masc.Sing\\ttô~tão\\tADV\\ttão~preparado\\tVERB.Part.Masc.Sing\\tpreparar~para\\tADP\\tpara~receber\\tVERB.Inf\\treceber~críticas\\tNOUN.Fem.Plur\\tcrítica~para\\tADP\\tpara~ser\\tAUX.Inf\\tser~enxovalhado\\tVERB.Part.Masc.Sing\\tenxovalhar~que\\tSCONJ\\tque~não\\tADV\\tnão~me\\tPRON.Sing\\teu~abala\\tVERB.Fin.Sing\\tabalar~não\\tADV\\tnão~me\\tPRON.Masc.Sing\\teu~abate\\tVERB.Fin.Sing\\tabater~não\\tADV\\tnão~me\\tPRON.Masc.Sing\\teu~deixa\\tVERB.Fin.Sing\\tdeixar~acabei\\tAUX.Fin.Sing\\tacabar~de\\tADP\\tde~baixo\\tNOUN\\tbaixo~haha\\tVERB.Fin.Sing\\thaha~pelo\\tADP_DET.Masc.Sing\\tpor_o~contrário\\tNOUN.Masc.Sing\\tcontrário~eu\\tPRON.Fem.Sing\\teu~tocar\\tVERB.Inf\\ttocar~galhada\\tNOUN.Fem.Sing\\tgalhada~nesses\\tADP_DET.Masc.Plur\\tem_esse~comentário\\tNOUN.Masc.Sing\\tcomentário~porque\\tSCONJ\\tporque~eu\\tPRON.Sing\\teu~sei\\tVERB.Fin.Sing\\tsaber~o\\tDET.Masc.Sing\\to~que\\tNOUN.Masc.Sing\\tque~que\\tADP\\tque~deus\\tNOUN.Masc.Sing\\tdeus~me\\tPRON.Sing\\teu~chamou\\tVERB.Fin.Sing\\tchamar~para\\tADP\\tpara~quê\\tPRON.Masc.Sing\\tquê~que\\tPRON.Rel.Masc.Sing\\tque~deus\\tNOUN.Masc.Sing\\tdeus~chamou\\tVERB.Fin.Sing\\tchamar~por\\tADP\\tpor~quê\\tPRON.Masc.Sing\\tquê~que\\tPRON.Rel.Masc.Sing\\tque~deus\\tNOUN.Masc.Sing\\tdeus~me\\tPRON.Masc.Sing\\teu~chamou\\tVERB.Fin.Sing\\tchamar~eu\\tPRON.Masc.Sing\\teu~não\\tADV\\tnão~tô\\tADJ.Fem.Sing\\ttô~fazendo\\tVERB.Ger\\tfazer~aqui\\tADV\\taqui~um\\tDET.Masc.Sing\\tum~papel\\tNOUN.Masc.Sing\\tpapel~político\\tADJ.Masc.Sing\\tpolítico~ou\\tCCONJ\\tou~um\\tDET.Masc.Sing\\tum~papel\\tNOUN.Masc.Sing\\tpapel~de\\tADP\\tde~marketing\\tNOUN.Masc.Sing\\tmarketing~eu\\tPRON.Sing\\teu~estou\\tAUX.Fin.Sing\\testar~fazendo\\tVERB.Ger\\tfazer~um\\tDET.Masc.Sing\\tum~papel\\tNOUN.Masc.Sing\\tpapel~da\\tADP_DET.Fem.Sing\\tde_o~minha\\tDET.Fem.Sing\\tmeu~chamada\\tNOUN.Fem.Sing\\tchamada~você\\tPRON.Sing\\tvocê~não\\tADV\\tnão~me\\tPRON.Sing\\teu~conhece\\tVERB.Fin.Sing\\tconhecer~desde\\tADV\\tdesde~de\\tADP\\tde~23\\tNUM\\t23~anos\\tNOUN.Masc.Plur\\tano~que\\tPRON.Rel.Masc.Plur\\tque~eu\\tPRON.Masc.Sing\\teu~fui\\tAUX.Fin.Sing\\tser~consagrado\\tVERB.Part.Masc.Sing\\tconsagrar~a\\tADP\\ta~pastor\\tNOUN.Masc.Sing\\tpastor~e\\tCCONJ\\te~eu\\tPRON.Sing\\teu~tenho\\tVERB.Fin.Sing\\tter~hoje\\tADV\\thoje~61\\tNUM\\t61~quando\\tADV\\tquando~não\\tADV\\tnão~tinha\\tVERB.Fin.Sing\\tter~redes\\tNOUN.Fem.Plur\\trede~sociais\\tADJ.Fem.Plur\\tsocial~eu\\tPRON.Masc.Sing\\teu~sempre\\tADV\\tsempre~fui\\tAUX.Fin.Sing\\tser~assim\\tADV\\tassim~eu\\tPRON.Masc.Sing\\teu~sempre\\tADV\\tsempre~me\\tPRON.Sing\\teu~posicionei\\tVERB.Fin.Sing\\tposicionei~assim\\tADV\\tassim~porque\\tSCONJ\\tporque~essa\\tPRON.Fem.Sing\\tesse~é\\tAUX.Fin.Sing\\tser~minha\\tDET.Fem.Sing\\tmeu~chamada\\tNOUN.Fem.Sing\\tchamada~a\\tADP\\ta~minha\\tDET.Fem.Sing\\tmeu~boca\\tNOUN.Fem.Sing\\tboca~são\\tAUX.Fin.Plur\\tser~se\\tSCONJ\\tse~você\\tPRON.Sing\\tvocê~não\\tADV\\tnão~gosta\\tVERB.Fin.Sing\\tgostar~paciência\\tNOUN.Fem.Sing\\tpaciência~eu\\tPRON.Masc.Sing\\teu~não\\tADV\\tnão~vou\\tAUX.Fin.Sing\\tir~mudar\\tVERB.Inf\\tmudar~por\\tADP\\tpor~que\\tSCONJ\\tque~você\\tPRON.Sing\\tvocê~não\\tADV\\tnão~gosta\\tVERB.Fin.Sing\\tgostar~é\\tAUX.Fin.Sing\\tser~isso\\tPRON.Masc.Sing\\tisso~que\\tPRON.Rel.Masc.Sing\\tque~eu\\tPRON.Sing\\teu~tô\\tNOUN.Masc.Sing\\ttô~é\\tAUX.Fin.Sing\\tser~isso\\tPRON.Masc.Sing\\tisso~que\\tPRON.Rel.Masc.Sing\\tque~eu\\tPRON.Masc.Sing\\teu~serei\\tVERB.Fin.Sing\\tser~e\\tCCONJ\\te~jamais\\tADV\\tjamais~homem\\tNOUN.Masc.Sing\\thomem~nenhum\\tADJ.Masc.Sing\\tnenhum~em\\tADP\\tem~diabo\\tNOUN.Masc.Sing\\tdiabo~nem\\tCCONJ\\tnem~ninguém\\tPRON.Masc.Sing\\tninguém~vai\\tAUX.Fin.Sing\\tir~me\\tPRON.Masc.Sing\\teu~calar\\tVERB.Inf\\tcalar~só\\tADV\\tsó~tem\\tVERB.Fin.Sing\\tter~um\\tDET.Masc.Sing\\tum~que\\tPRON.Rel.Masc.Sing\\tque~pode\\tAUX.Fin.Sing\\tpoder~me\\tPRON.Masc.Sing\\teu~calar\\tVERB.Inf\\tcalar~o\\tDET.Masc.Sing\\to~senhor\\tNOUN.Masc.Sing\\tsenhor~todo\\tADV\\ttodo~poderoso\\tADJ.Masc.Sing\\tpoderoso~você\\tPRON.Sing\\tvocê~deve\\tAUX.Fin.Sing\\tdever~se\\tPRON.Fem.Sing\\tse~fosse\\tAUX.Fin.Sing\\tser~cionar\\tVERB.Inf\\tcionar~você\\tPRON.Sing\\tvocê~não\\tADV\\tnão~tem\\tAUX.Fin.Sing\\tter~que\\tSCONJ\\tque~concordar\\tVERB.Inf\\tconcordar~com\\tADP\\tcom~tudo\\tPRON.Masc.Sing\\ttudo~o\\tPRON.Masc.Sing\\to~que\\tPRON.Rel.Masc.Sing\\tque~eu\\tPRON.Sing\\teu~falo\\tVERB.Fin.Sing\\tfalar~porque\\tSCONJ\\tporque~eu\\tPRON.Sing\\teu~tirei\\tVERB.Fin.Sing\\ttirar~o\\tDET.Masc.Sing\\to~seu\\tPRON.Masc.Sing\\tseu~você\\tPRON.Sing\\tvocê~é\\tAUX.Fin.Sing\\tser~um\\tDET.Masc.Sing\\tum~chefe\\tNOUN.Masc.Sing\\tchefe~pensante\\tADJ.Masc.Sing\\tpensante~inteligente\\tADJ.Masc.Sing\\tinteligente~se\\tSCONJ\\tse~fosse\\tAUX.Fin.Sing\\tser~olho\\tNOUN.Masc.Sing\\tolho~não\\tADV\\tnão~importa\\tVERB.Fin.Sing\\timportar~se\\tSCONJ\\tse~você\\tPRON.Sing\\tvocê~tem\\tVERB.Fin.Sing\\tter~10\\tNUM\\t10~pessoas\\tNOUN.Fem.Plur\\tpessoa~na\\tADP_DET.Fem.Sing\\tem_o~sua\\tDET.Fem.Sing\\tseu~rede\\tNOUN.Fem.Sing\\trede~social\\tADJ.Fem.Sing\\tsocial~se\\tSCONJ\\tse~você\\tPRON.Sing\\tvocê~já\\tADV\\tjá~é\\tAUX.Fin.Sing\\tser~uma\\tDET.Fem.Sing\\tum~pessoa\\tNOUN.Fem.Sing\\tpessoa~de\\tADP\\tde~influência\\tNOUN.Fem.Sing\\tinfluência~uma\\tDET.Fem.Sing\\tum~posição\\tNOUN.Fem.Sing\\tposição~porque\\tSCONJ\\tporque~um\\tDET.Masc.Sing\\tum~simples\\tADJ.Masc.Sing\\tsimples~estão\\tAUX.Fin.Plur\\testar~marcando\\tVERB.Ger\\tmarcar~aqueles\\tPRON.Masc.Plur\\taquele~que\\tPRON.Rel.Masc.Plur\\tque~odeiam\\tVERB.Fin.Plur\\todiar~a\\tDET.Fem.Sing\\to~palavra\\tNOUN.Fem.Sing\\tpalavra~de\\tADP\\tde~deus\\tNOUN.Masc.Sing\\tdeus~a\\tDET.Fem.Sing\\to~igreja\\tNOUN.Fem.Sing\\tigreja~de\\tADP\\tde~jesus\\tNOUN.Masc.Plur\\tjesus~então\\tADV\\tentão~se\\tPRON.Masc.Sing\\tse~posicionado\\tVERB.Part.Masc.Sing\\tposicionar~e\\tCCONJ\\te~eu\\tPRON.Sing\\teu~pro\\tVERB.Fin.Sing\\tpro~cidadão\\tNOUN.Masc.Sing\\tcidadão~vão\\tAUX.Fin.Plur\\tir~impulsionar\\tVERB.Inf\\timpulsionar~e\\tCCONJ\\te~você\\tPRON.Fem.Sing\\tvocê~como\\tADP\\tcomo~cidadão\\tNOUN.Masc.Sing\\tcidadão~quais\\tPRON.Rel.Fem.Plur\\tqual~são\\tAUX.Fin.Plur\\tser~as\\tDET.Fem.Plur\\to~suas\\tDET.Fem.Plur\\tseu~posições\\tNOUN.Fem.Plur\\tposição~diante\\tADV\\tdiante~das\\tADP_DET.Fem.Plur\\tde_o~demandas\\tNOUN.Fem.Plur\\tdemanda~da\\tADP_DET.Fem.Sing\\tde_o~nação\\tNOUN.Fem.Sing\\tnação~da\\tADP_DET.Fem.Sing\\tde_o~sociedade\\tNOUN.Fem.Sing\\tsociedade~se\\tPRON\\tse~posicione\\tVERB.Fin.Sing\\tposicionar~o\\tDET.Masc.Sing\\to~mundo\\tNOUN.Masc.Sing\\tmundo~é\\tAUX.Fin.Sing\\tser~de\\tADP\\tde~quem\\tPRON.Rel.Sing\\tquem~se\\tPRON.Sing\\tse~posiciona\\tVERB.Fin.Sing\\tposicionar'"
      ]
     },
     "execution_count": 5,
     "metadata": {},
     "output_type": "execute_result"
    }
   ],
   "source": [
    "df.loc[1, 'content']"
   ]
  },
  {
   "cell_type": "markdown",
   "id": "a1ab9e3e-5789-4850-94c5-325b95fa9ec1",
   "metadata": {},
   "source": [
    "## Appending a `~` character at the end of each string of the column `content`"
   ]
  },
  {
   "cell_type": "markdown",
   "id": "add4a4c6-5607-4c1e-9365-895b7b313652",
   "metadata": {},
   "source": [
    "The character `~` is required to allow for the detection of the string patterns to transform."
   ]
  },
  {
   "cell_type": "code",
   "execution_count": 6,
   "id": "ee9aac52-1c2a-4877-ac95-01491132d47f",
   "metadata": {},
   "outputs": [],
   "source": [
    "# Appending '~' to the end of each string in the 'content' column\n",
    "df['content'] = df['content'] + '~'"
   ]
  },
  {
   "cell_type": "markdown",
   "id": "bd906c1c-9345-4dfc-8370-ff37ac8bfe8a",
   "metadata": {},
   "source": [
    "### Inspecting a few texts"
   ]
  },
  {
   "cell_type": "code",
   "execution_count": 7,
   "id": "88873a09-d242-478f-bd74-7e8818e26b5e",
   "metadata": {},
   "outputs": [
    {
     "data": {
      "text/plain": [
       "'c:e\\tCCONJ\\te~eu\\tPRON.Sing\\teu~não\\tADV\\tnão~vou\\tAUX.Fin.Sing\\tir~me\\tPRON.Masc.Sing\\teu~calar\\tVERB.Inf\\tcalar~por\\tADP\\tpor~uma\\tDET.Fem.Sing\\tum~série\\tNOUN.Fem.Sing\\tsérie~de\\tADP\\tde~coisas\\tNOUN.Fem.Plur\\tcoisa~primeiro\\tADV\\tprimeiro~que\\tSCONJ\\tque~química\\tNOUN.Fem.Sing\\tquímica~é\\tADP\\té~teus\\tNOUN.Masc.Plur\\tteu~é\\tAUX.Fin.Sing\\tser~aquele\\tPRON.Masc.Sing\\taquele~cala\\tVERB.Fin.Sing\\tcalar~tudo\\tPRON.Masc.Sing\\ttudo~é\\tAUX.Fin.Sing\\tser~12\\tNUM\\t12~eu\\tPRON.Sing\\teu~sou\\tAUX.Fin.Sing\\tser~a\\tDET.Fem.Sing\\to~voz\\tNOUN.Fem.Sing\\tvoz~profética\\tADJ.Fem.Sing\\tprofético~voz\\tNOUN.Fem.Sing\\tvoz~profética\\tADJ.Fem.Sing\\tprofético~não\\tADV\\tnão~se\\tPRON\\tse~cala\\tVERB.Fin.Sing\\tcalar~questiona\\tVERB.Fin.Sing\\tquestionar~eu\\tPRON.Sing\\teu~tô\\tNOUN.Masc.Sing\\ttô~tão\\tADV\\ttão~preparado\\tVERB.Part.Masc.Sing\\tpreparar~para\\tADP\\tpara~receber\\tVERB.Inf\\treceber~críticas\\tNOUN.Fem.Plur\\tcrítica~para\\tADP\\tpara~ser\\tAUX.Inf\\tser~enxovalhado\\tVERB.Part.Masc.Sing\\tenxovalhar~que\\tSCONJ\\tque~não\\tADV\\tnão~me\\tPRON.Sing\\teu~abala\\tVERB.Fin.Sing\\tabalar~não\\tADV\\tnão~me\\tPRON.Masc.Sing\\teu~abate\\tVERB.Fin.Sing\\tabater~não\\tADV\\tnão~me\\tPRON.Masc.Sing\\teu~deixa\\tVERB.Fin.Sing\\tdeixar~acabei\\tAUX.Fin.Sing\\tacabar~de\\tADP\\tde~baixo\\tNOUN\\tbaixo~haha\\tVERB.Fin.Sing\\thaha~pelo\\tADP_DET.Masc.Sing\\tpor_o~contrário\\tNOUN.Masc.Sing\\tcontrário~eu\\tPRON.Fem.Sing\\teu~tocar\\tVERB.Inf\\ttocar~galhada\\tNOUN.Fem.Sing\\tgalhada~nesses\\tADP_DET.Masc.Plur\\tem_esse~comentário\\tNOUN.Masc.Sing\\tcomentário~porque\\tSCONJ\\tporque~eu\\tPRON.Sing\\teu~sei\\tVERB.Fin.Sing\\tsaber~o\\tDET.Masc.Sing\\to~que\\tNOUN.Masc.Sing\\tque~que\\tADP\\tque~deus\\tNOUN.Masc.Sing\\tdeus~me\\tPRON.Sing\\teu~chamou\\tVERB.Fin.Sing\\tchamar~para\\tADP\\tpara~quê\\tPRON.Masc.Sing\\tquê~que\\tPRON.Rel.Masc.Sing\\tque~deus\\tNOUN.Masc.Sing\\tdeus~chamou\\tVERB.Fin.Sing\\tchamar~por\\tADP\\tpor~quê\\tPRON.Masc.Sing\\tquê~que\\tPRON.Rel.Masc.Sing\\tque~deus\\tNOUN.Masc.Sing\\tdeus~me\\tPRON.Masc.Sing\\teu~chamou\\tVERB.Fin.Sing\\tchamar~eu\\tPRON.Masc.Sing\\teu~não\\tADV\\tnão~tô\\tADJ.Fem.Sing\\ttô~fazendo\\tVERB.Ger\\tfazer~aqui\\tADV\\taqui~um\\tDET.Masc.Sing\\tum~papel\\tNOUN.Masc.Sing\\tpapel~político\\tADJ.Masc.Sing\\tpolítico~ou\\tCCONJ\\tou~um\\tDET.Masc.Sing\\tum~papel\\tNOUN.Masc.Sing\\tpapel~de\\tADP\\tde~marketing\\tNOUN.Masc.Sing\\tmarketing~eu\\tPRON.Sing\\teu~estou\\tAUX.Fin.Sing\\testar~fazendo\\tVERB.Ger\\tfazer~um\\tDET.Masc.Sing\\tum~papel\\tNOUN.Masc.Sing\\tpapel~da\\tADP_DET.Fem.Sing\\tde_o~minha\\tDET.Fem.Sing\\tmeu~chamada\\tNOUN.Fem.Sing\\tchamada~você\\tPRON.Sing\\tvocê~não\\tADV\\tnão~me\\tPRON.Sing\\teu~conhece\\tVERB.Fin.Sing\\tconhecer~desde\\tADV\\tdesde~de\\tADP\\tde~23\\tNUM\\t23~anos\\tNOUN.Masc.Plur\\tano~que\\tPRON.Rel.Masc.Plur\\tque~eu\\tPRON.Masc.Sing\\teu~fui\\tAUX.Fin.Sing\\tser~consagrado\\tVERB.Part.Masc.Sing\\tconsagrar~a\\tADP\\ta~pastor\\tNOUN.Masc.Sing\\tpastor~e\\tCCONJ\\te~eu\\tPRON.Sing\\teu~tenho\\tVERB.Fin.Sing\\tter~hoje\\tADV\\thoje~61\\tNUM\\t61~quando\\tADV\\tquando~não\\tADV\\tnão~tinha\\tVERB.Fin.Sing\\tter~redes\\tNOUN.Fem.Plur\\trede~sociais\\tADJ.Fem.Plur\\tsocial~eu\\tPRON.Masc.Sing\\teu~sempre\\tADV\\tsempre~fui\\tAUX.Fin.Sing\\tser~assim\\tADV\\tassim~eu\\tPRON.Masc.Sing\\teu~sempre\\tADV\\tsempre~me\\tPRON.Sing\\teu~posicionei\\tVERB.Fin.Sing\\tposicionei~assim\\tADV\\tassim~porque\\tSCONJ\\tporque~essa\\tPRON.Fem.Sing\\tesse~é\\tAUX.Fin.Sing\\tser~minha\\tDET.Fem.Sing\\tmeu~chamada\\tNOUN.Fem.Sing\\tchamada~a\\tADP\\ta~minha\\tDET.Fem.Sing\\tmeu~boca\\tNOUN.Fem.Sing\\tboca~são\\tAUX.Fin.Plur\\tser~se\\tSCONJ\\tse~você\\tPRON.Sing\\tvocê~não\\tADV\\tnão~gosta\\tVERB.Fin.Sing\\tgostar~paciência\\tNOUN.Fem.Sing\\tpaciência~eu\\tPRON.Masc.Sing\\teu~não\\tADV\\tnão~vou\\tAUX.Fin.Sing\\tir~mudar\\tVERB.Inf\\tmudar~por\\tADP\\tpor~que\\tSCONJ\\tque~você\\tPRON.Sing\\tvocê~não\\tADV\\tnão~gosta\\tVERB.Fin.Sing\\tgostar~é\\tAUX.Fin.Sing\\tser~isso\\tPRON.Masc.Sing\\tisso~que\\tPRON.Rel.Masc.Sing\\tque~eu\\tPRON.Sing\\teu~tô\\tNOUN.Masc.Sing\\ttô~é\\tAUX.Fin.Sing\\tser~isso\\tPRON.Masc.Sing\\tisso~que\\tPRON.Rel.Masc.Sing\\tque~eu\\tPRON.Masc.Sing\\teu~serei\\tVERB.Fin.Sing\\tser~e\\tCCONJ\\te~jamais\\tADV\\tjamais~homem\\tNOUN.Masc.Sing\\thomem~nenhum\\tADJ.Masc.Sing\\tnenhum~em\\tADP\\tem~diabo\\tNOUN.Masc.Sing\\tdiabo~nem\\tCCONJ\\tnem~ninguém\\tPRON.Masc.Sing\\tninguém~vai\\tAUX.Fin.Sing\\tir~me\\tPRON.Masc.Sing\\teu~calar\\tVERB.Inf\\tcalar~só\\tADV\\tsó~tem\\tVERB.Fin.Sing\\tter~um\\tDET.Masc.Sing\\tum~que\\tPRON.Rel.Masc.Sing\\tque~pode\\tAUX.Fin.Sing\\tpoder~me\\tPRON.Masc.Sing\\teu~calar\\tVERB.Inf\\tcalar~o\\tDET.Masc.Sing\\to~senhor\\tNOUN.Masc.Sing\\tsenhor~todo\\tADV\\ttodo~poderoso\\tADJ.Masc.Sing\\tpoderoso~você\\tPRON.Sing\\tvocê~deve\\tAUX.Fin.Sing\\tdever~se\\tPRON.Fem.Sing\\tse~fosse\\tAUX.Fin.Sing\\tser~cionar\\tVERB.Inf\\tcionar~você\\tPRON.Sing\\tvocê~não\\tADV\\tnão~tem\\tAUX.Fin.Sing\\tter~que\\tSCONJ\\tque~concordar\\tVERB.Inf\\tconcordar~com\\tADP\\tcom~tudo\\tPRON.Masc.Sing\\ttudo~o\\tPRON.Masc.Sing\\to~que\\tPRON.Rel.Masc.Sing\\tque~eu\\tPRON.Sing\\teu~falo\\tVERB.Fin.Sing\\tfalar~porque\\tSCONJ\\tporque~eu\\tPRON.Sing\\teu~tirei\\tVERB.Fin.Sing\\ttirar~o\\tDET.Masc.Sing\\to~seu\\tPRON.Masc.Sing\\tseu~você\\tPRON.Sing\\tvocê~é\\tAUX.Fin.Sing\\tser~um\\tDET.Masc.Sing\\tum~chefe\\tNOUN.Masc.Sing\\tchefe~pensante\\tADJ.Masc.Sing\\tpensante~inteligente\\tADJ.Masc.Sing\\tinteligente~se\\tSCONJ\\tse~fosse\\tAUX.Fin.Sing\\tser~olho\\tNOUN.Masc.Sing\\tolho~não\\tADV\\tnão~importa\\tVERB.Fin.Sing\\timportar~se\\tSCONJ\\tse~você\\tPRON.Sing\\tvocê~tem\\tVERB.Fin.Sing\\tter~10\\tNUM\\t10~pessoas\\tNOUN.Fem.Plur\\tpessoa~na\\tADP_DET.Fem.Sing\\tem_o~sua\\tDET.Fem.Sing\\tseu~rede\\tNOUN.Fem.Sing\\trede~social\\tADJ.Fem.Sing\\tsocial~se\\tSCONJ\\tse~você\\tPRON.Sing\\tvocê~já\\tADV\\tjá~é\\tAUX.Fin.Sing\\tser~uma\\tDET.Fem.Sing\\tum~pessoa\\tNOUN.Fem.Sing\\tpessoa~de\\tADP\\tde~influência\\tNOUN.Fem.Sing\\tinfluência~uma\\tDET.Fem.Sing\\tum~posição\\tNOUN.Fem.Sing\\tposição~porque\\tSCONJ\\tporque~um\\tDET.Masc.Sing\\tum~simples\\tADJ.Masc.Sing\\tsimples~estão\\tAUX.Fin.Plur\\testar~marcando\\tVERB.Ger\\tmarcar~aqueles\\tPRON.Masc.Plur\\taquele~que\\tPRON.Rel.Masc.Plur\\tque~odeiam\\tVERB.Fin.Plur\\todiar~a\\tDET.Fem.Sing\\to~palavra\\tNOUN.Fem.Sing\\tpalavra~de\\tADP\\tde~deus\\tNOUN.Masc.Sing\\tdeus~a\\tDET.Fem.Sing\\to~igreja\\tNOUN.Fem.Sing\\tigreja~de\\tADP\\tde~jesus\\tNOUN.Masc.Plur\\tjesus~então\\tADV\\tentão~se\\tPRON.Masc.Sing\\tse~posicionado\\tVERB.Part.Masc.Sing\\tposicionar~e\\tCCONJ\\te~eu\\tPRON.Sing\\teu~pro\\tVERB.Fin.Sing\\tpro~cidadão\\tNOUN.Masc.Sing\\tcidadão~vão\\tAUX.Fin.Plur\\tir~impulsionar\\tVERB.Inf\\timpulsionar~e\\tCCONJ\\te~você\\tPRON.Fem.Sing\\tvocê~como\\tADP\\tcomo~cidadão\\tNOUN.Masc.Sing\\tcidadão~quais\\tPRON.Rel.Fem.Plur\\tqual~são\\tAUX.Fin.Plur\\tser~as\\tDET.Fem.Plur\\to~suas\\tDET.Fem.Plur\\tseu~posições\\tNOUN.Fem.Plur\\tposição~diante\\tADV\\tdiante~das\\tADP_DET.Fem.Plur\\tde_o~demandas\\tNOUN.Fem.Plur\\tdemanda~da\\tADP_DET.Fem.Sing\\tde_o~nação\\tNOUN.Fem.Sing\\tnação~da\\tADP_DET.Fem.Sing\\tde_o~sociedade\\tNOUN.Fem.Sing\\tsociedade~se\\tPRON\\tse~posicione\\tVERB.Fin.Sing\\tposicionar~o\\tDET.Masc.Sing\\to~mundo\\tNOUN.Masc.Sing\\tmundo~é\\tAUX.Fin.Sing\\tser~de\\tADP\\tde~quem\\tPRON.Rel.Sing\\tquem~se\\tPRON.Sing\\tse~posiciona\\tVERB.Fin.Sing\\tposicionar~'"
      ]
     },
     "execution_count": 7,
     "metadata": {},
     "output_type": "execute_result"
    }
   ],
   "source": [
    "df.loc[1, 'content']"
   ]
  },
  {
   "cell_type": "markdown",
   "id": "a9f972af-e54d-405e-9b7c-b775990ff721",
   "metadata": {},
   "source": [
    "## Defining a function to transform the tagged strings"
   ]
  },
  {
   "cell_type": "code",
   "execution_count": 8,
   "id": "15e46688-88b9-49bb-8ad5-3a165dadfb92",
   "metadata": {},
   "outputs": [],
   "source": [
    "def transform_tagged_string(tagged_string):\n",
    "    # Ensure the input is a string\n",
    "    tagged_string = str(tagged_string)\n",
    "    # Function to transform each substring\n",
    "    def transform_substring(match):\n",
    "        parts = match.group(1).split('\\t')\n",
    "        if parts[0] in ['HASHTAG', 'EMOJI']:\n",
    "            substring = f'{parts[0]}\\t{parts[1]}~'\n",
    "        else:\n",
    "            tag = parts[0].replace('.', '_') # Replacing any occurrence of '.' by '_' to ensure compliance with the next stage of processing\n",
    "            substring = f'{parts[0]}\\t{parts[1]}_{tag}~'\n",
    "        return substring\n",
    "    \n",
    "    # Regular expression to match each substring delimited by '~'\n",
    "    #pattern = r'(\\w+\\t\\w+)~'\n",
    "    pattern = r'([a-zA-Z0-9_.]+\\t\\w+)~'\n",
    "    \n",
    "    # Apply the transformation\n",
    "    transformed_string = re.sub(pattern, lambda match: transform_substring(match), tagged_string)\n",
    "    \n",
    "    return transformed_string"
   ]
  },
  {
   "cell_type": "markdown",
   "id": "442936de-1113-4e6a-9b54-260a89457af7",
   "metadata": {},
   "source": [
    "## Transforming the tagged strings"
   ]
  },
  {
   "cell_type": "code",
   "execution_count": 9,
   "id": "547b6739-f07e-4b18-87dc-d8a1ddb0b163",
   "metadata": {},
   "outputs": [],
   "source": [
    "# Transforming the tagged strings\n",
    "df['content'] = df['content'].apply(transform_tagged_string)"
   ]
  },
  {
   "cell_type": "markdown",
   "id": "8546c1c8-0dd9-4d1c-a3b9-b73e9b9a463f",
   "metadata": {},
   "source": [
    "### Inspecting a few texts"
   ]
  },
  {
   "cell_type": "code",
   "execution_count": 11,
   "id": "83358d63-1a81-4a04-a921-f39c0f56e8a7",
   "metadata": {},
   "outputs": [
    {
     "data": {
      "text/plain": [
       "'c:e\\tCCONJ\\te_CCONJ~eu\\tPRON.Sing\\teu_PRON_Sing~não\\tADV\\tnão_ADV~vou\\tAUX.Fin.Sing\\tir_AUX_Fin_Sing~me\\tPRON.Masc.Sing\\teu_PRON_Masc_Sing~calar\\tVERB.Inf\\tcalar_VERB_Inf~por\\tADP\\tpor_ADP~uma\\tDET.Fem.Sing\\tum_DET_Fem_Sing~série\\tNOUN.Fem.Sing\\tsérie_NOUN_Fem_Sing~de\\tADP\\tde_ADP~coisas\\tNOUN.Fem.Plur\\tcoisa_NOUN_Fem_Plur~primeiro\\tADV\\tprimeiro_ADV~que\\tSCONJ\\tque_SCONJ~química\\tNOUN.Fem.Sing\\tquímica_NOUN_Fem_Sing~é\\tADP\\té_ADP~teus\\tNOUN.Masc.Plur\\tteu_NOUN_Masc_Plur~é\\tAUX.Fin.Sing\\tser_AUX_Fin_Sing~aquele\\tPRON.Masc.Sing\\taquele_PRON_Masc_Sing~cala\\tVERB.Fin.Sing\\tcalar_VERB_Fin_Sing~tudo\\tPRON.Masc.Sing\\ttudo_PRON_Masc_Sing~é\\tAUX.Fin.Sing\\tser_AUX_Fin_Sing~12\\tNUM\\t12_NUM~eu\\tPRON.Sing\\teu_PRON_Sing~sou\\tAUX.Fin.Sing\\tser_AUX_Fin_Sing~a\\tDET.Fem.Sing\\to_DET_Fem_Sing~voz\\tNOUN.Fem.Sing\\tvoz_NOUN_Fem_Sing~profética\\tADJ.Fem.Sing\\tprofético_ADJ_Fem_Sing~voz\\tNOUN.Fem.Sing\\tvoz_NOUN_Fem_Sing~profética\\tADJ.Fem.Sing\\tprofético_ADJ_Fem_Sing~não\\tADV\\tnão_ADV~se\\tPRON\\tse_PRON~cala\\tVERB.Fin.Sing\\tcalar_VERB_Fin_Sing~questiona\\tVERB.Fin.Sing\\tquestionar_VERB_Fin_Sing~eu\\tPRON.Sing\\teu_PRON_Sing~tô\\tNOUN.Masc.Sing\\ttô_NOUN_Masc_Sing~tão\\tADV\\ttão_ADV~preparado\\tVERB.Part.Masc.Sing\\tpreparar_VERB_Part_Masc_Sing~para\\tADP\\tpara_ADP~receber\\tVERB.Inf\\treceber_VERB_Inf~críticas\\tNOUN.Fem.Plur\\tcrítica_NOUN_Fem_Plur~para\\tADP\\tpara_ADP~ser\\tAUX.Inf\\tser_AUX_Inf~enxovalhado\\tVERB.Part.Masc.Sing\\tenxovalhar_VERB_Part_Masc_Sing~que\\tSCONJ\\tque_SCONJ~não\\tADV\\tnão_ADV~me\\tPRON.Sing\\teu_PRON_Sing~abala\\tVERB.Fin.Sing\\tabalar_VERB_Fin_Sing~não\\tADV\\tnão_ADV~me\\tPRON.Masc.Sing\\teu_PRON_Masc_Sing~abate\\tVERB.Fin.Sing\\tabater_VERB_Fin_Sing~não\\tADV\\tnão_ADV~me\\tPRON.Masc.Sing\\teu_PRON_Masc_Sing~deixa\\tVERB.Fin.Sing\\tdeixar_VERB_Fin_Sing~acabei\\tAUX.Fin.Sing\\tacabar_AUX_Fin_Sing~de\\tADP\\tde_ADP~baixo\\tNOUN\\tbaixo_NOUN~haha\\tVERB.Fin.Sing\\thaha_VERB_Fin_Sing~pelo\\tADP_DET.Masc.Sing\\tpor_o_ADP_DET_Masc_Sing~contrário\\tNOUN.Masc.Sing\\tcontrário_NOUN_Masc_Sing~eu\\tPRON.Fem.Sing\\teu_PRON_Fem_Sing~tocar\\tVERB.Inf\\ttocar_VERB_Inf~galhada\\tNOUN.Fem.Sing\\tgalhada_NOUN_Fem_Sing~nesses\\tADP_DET.Masc.Plur\\tem_esse_ADP_DET_Masc_Plur~comentário\\tNOUN.Masc.Sing\\tcomentário_NOUN_Masc_Sing~porque\\tSCONJ\\tporque_SCONJ~eu\\tPRON.Sing\\teu_PRON_Sing~sei\\tVERB.Fin.Sing\\tsaber_VERB_Fin_Sing~o\\tDET.Masc.Sing\\to_DET_Masc_Sing~que\\tNOUN.Masc.Sing\\tque_NOUN_Masc_Sing~que\\tADP\\tque_ADP~deus\\tNOUN.Masc.Sing\\tdeus_NOUN_Masc_Sing~me\\tPRON.Sing\\teu_PRON_Sing~chamou\\tVERB.Fin.Sing\\tchamar_VERB_Fin_Sing~para\\tADP\\tpara_ADP~quê\\tPRON.Masc.Sing\\tquê_PRON_Masc_Sing~que\\tPRON.Rel.Masc.Sing\\tque_PRON_Rel_Masc_Sing~deus\\tNOUN.Masc.Sing\\tdeus_NOUN_Masc_Sing~chamou\\tVERB.Fin.Sing\\tchamar_VERB_Fin_Sing~por\\tADP\\tpor_ADP~quê\\tPRON.Masc.Sing\\tquê_PRON_Masc_Sing~que\\tPRON.Rel.Masc.Sing\\tque_PRON_Rel_Masc_Sing~deus\\tNOUN.Masc.Sing\\tdeus_NOUN_Masc_Sing~me\\tPRON.Masc.Sing\\teu_PRON_Masc_Sing~chamou\\tVERB.Fin.Sing\\tchamar_VERB_Fin_Sing~eu\\tPRON.Masc.Sing\\teu_PRON_Masc_Sing~não\\tADV\\tnão_ADV~tô\\tADJ.Fem.Sing\\ttô_ADJ_Fem_Sing~fazendo\\tVERB.Ger\\tfazer_VERB_Ger~aqui\\tADV\\taqui_ADV~um\\tDET.Masc.Sing\\tum_DET_Masc_Sing~papel\\tNOUN.Masc.Sing\\tpapel_NOUN_Masc_Sing~político\\tADJ.Masc.Sing\\tpolítico_ADJ_Masc_Sing~ou\\tCCONJ\\tou_CCONJ~um\\tDET.Masc.Sing\\tum_DET_Masc_Sing~papel\\tNOUN.Masc.Sing\\tpapel_NOUN_Masc_Sing~de\\tADP\\tde_ADP~marketing\\tNOUN.Masc.Sing\\tmarketing_NOUN_Masc_Sing~eu\\tPRON.Sing\\teu_PRON_Sing~estou\\tAUX.Fin.Sing\\testar_AUX_Fin_Sing~fazendo\\tVERB.Ger\\tfazer_VERB_Ger~um\\tDET.Masc.Sing\\tum_DET_Masc_Sing~papel\\tNOUN.Masc.Sing\\tpapel_NOUN_Masc_Sing~da\\tADP_DET.Fem.Sing\\tde_o_ADP_DET_Fem_Sing~minha\\tDET.Fem.Sing\\tmeu_DET_Fem_Sing~chamada\\tNOUN.Fem.Sing\\tchamada_NOUN_Fem_Sing~você\\tPRON.Sing\\tvocê_PRON_Sing~não\\tADV\\tnão_ADV~me\\tPRON.Sing\\teu_PRON_Sing~conhece\\tVERB.Fin.Sing\\tconhecer_VERB_Fin_Sing~desde\\tADV\\tdesde_ADV~de\\tADP\\tde_ADP~23\\tNUM\\t23_NUM~anos\\tNOUN.Masc.Plur\\tano_NOUN_Masc_Plur~que\\tPRON.Rel.Masc.Plur\\tque_PRON_Rel_Masc_Plur~eu\\tPRON.Masc.Sing\\teu_PRON_Masc_Sing~fui\\tAUX.Fin.Sing\\tser_AUX_Fin_Sing~consagrado\\tVERB.Part.Masc.Sing\\tconsagrar_VERB_Part_Masc_Sing~a\\tADP\\ta_ADP~pastor\\tNOUN.Masc.Sing\\tpastor_NOUN_Masc_Sing~e\\tCCONJ\\te_CCONJ~eu\\tPRON.Sing\\teu_PRON_Sing~tenho\\tVERB.Fin.Sing\\tter_VERB_Fin_Sing~hoje\\tADV\\thoje_ADV~61\\tNUM\\t61_NUM~quando\\tADV\\tquando_ADV~não\\tADV\\tnão_ADV~tinha\\tVERB.Fin.Sing\\tter_VERB_Fin_Sing~redes\\tNOUN.Fem.Plur\\trede_NOUN_Fem_Plur~sociais\\tADJ.Fem.Plur\\tsocial_ADJ_Fem_Plur~eu\\tPRON.Masc.Sing\\teu_PRON_Masc_Sing~sempre\\tADV\\tsempre_ADV~fui\\tAUX.Fin.Sing\\tser_AUX_Fin_Sing~assim\\tADV\\tassim_ADV~eu\\tPRON.Masc.Sing\\teu_PRON_Masc_Sing~sempre\\tADV\\tsempre_ADV~me\\tPRON.Sing\\teu_PRON_Sing~posicionei\\tVERB.Fin.Sing\\tposicionei_VERB_Fin_Sing~assim\\tADV\\tassim_ADV~porque\\tSCONJ\\tporque_SCONJ~essa\\tPRON.Fem.Sing\\tesse_PRON_Fem_Sing~é\\tAUX.Fin.Sing\\tser_AUX_Fin_Sing~minha\\tDET.Fem.Sing\\tmeu_DET_Fem_Sing~chamada\\tNOUN.Fem.Sing\\tchamada_NOUN_Fem_Sing~a\\tADP\\ta_ADP~minha\\tDET.Fem.Sing\\tmeu_DET_Fem_Sing~boca\\tNOUN.Fem.Sing\\tboca_NOUN_Fem_Sing~são\\tAUX.Fin.Plur\\tser_AUX_Fin_Plur~se\\tSCONJ\\tse_SCONJ~você\\tPRON.Sing\\tvocê_PRON_Sing~não\\tADV\\tnão_ADV~gosta\\tVERB.Fin.Sing\\tgostar_VERB_Fin_Sing~paciência\\tNOUN.Fem.Sing\\tpaciência_NOUN_Fem_Sing~eu\\tPRON.Masc.Sing\\teu_PRON_Masc_Sing~não\\tADV\\tnão_ADV~vou\\tAUX.Fin.Sing\\tir_AUX_Fin_Sing~mudar\\tVERB.Inf\\tmudar_VERB_Inf~por\\tADP\\tpor_ADP~que\\tSCONJ\\tque_SCONJ~você\\tPRON.Sing\\tvocê_PRON_Sing~não\\tADV\\tnão_ADV~gosta\\tVERB.Fin.Sing\\tgostar_VERB_Fin_Sing~é\\tAUX.Fin.Sing\\tser_AUX_Fin_Sing~isso\\tPRON.Masc.Sing\\tisso_PRON_Masc_Sing~que\\tPRON.Rel.Masc.Sing\\tque_PRON_Rel_Masc_Sing~eu\\tPRON.Sing\\teu_PRON_Sing~tô\\tNOUN.Masc.Sing\\ttô_NOUN_Masc_Sing~é\\tAUX.Fin.Sing\\tser_AUX_Fin_Sing~isso\\tPRON.Masc.Sing\\tisso_PRON_Masc_Sing~que\\tPRON.Rel.Masc.Sing\\tque_PRON_Rel_Masc_Sing~eu\\tPRON.Masc.Sing\\teu_PRON_Masc_Sing~serei\\tVERB.Fin.Sing\\tser_VERB_Fin_Sing~e\\tCCONJ\\te_CCONJ~jamais\\tADV\\tjamais_ADV~homem\\tNOUN.Masc.Sing\\thomem_NOUN_Masc_Sing~nenhum\\tADJ.Masc.Sing\\tnenhum_ADJ_Masc_Sing~em\\tADP\\tem_ADP~diabo\\tNOUN.Masc.Sing\\tdiabo_NOUN_Masc_Sing~nem\\tCCONJ\\tnem_CCONJ~ninguém\\tPRON.Masc.Sing\\tninguém_PRON_Masc_Sing~vai\\tAUX.Fin.Sing\\tir_AUX_Fin_Sing~me\\tPRON.Masc.Sing\\teu_PRON_Masc_Sing~calar\\tVERB.Inf\\tcalar_VERB_Inf~só\\tADV\\tsó_ADV~tem\\tVERB.Fin.Sing\\tter_VERB_Fin_Sing~um\\tDET.Masc.Sing\\tum_DET_Masc_Sing~que\\tPRON.Rel.Masc.Sing\\tque_PRON_Rel_Masc_Sing~pode\\tAUX.Fin.Sing\\tpoder_AUX_Fin_Sing~me\\tPRON.Masc.Sing\\teu_PRON_Masc_Sing~calar\\tVERB.Inf\\tcalar_VERB_Inf~o\\tDET.Masc.Sing\\to_DET_Masc_Sing~senhor\\tNOUN.Masc.Sing\\tsenhor_NOUN_Masc_Sing~todo\\tADV\\ttodo_ADV~poderoso\\tADJ.Masc.Sing\\tpoderoso_ADJ_Masc_Sing~você\\tPRON.Sing\\tvocê_PRON_Sing~deve\\tAUX.Fin.Sing\\tdever_AUX_Fin_Sing~se\\tPRON.Fem.Sing\\tse_PRON_Fem_Sing~fosse\\tAUX.Fin.Sing\\tser_AUX_Fin_Sing~cionar\\tVERB.Inf\\tcionar_VERB_Inf~você\\tPRON.Sing\\tvocê_PRON_Sing~não\\tADV\\tnão_ADV~tem\\tAUX.Fin.Sing\\tter_AUX_Fin_Sing~que\\tSCONJ\\tque_SCONJ~concordar\\tVERB.Inf\\tconcordar_VERB_Inf~com\\tADP\\tcom_ADP~tudo\\tPRON.Masc.Sing\\ttudo_PRON_Masc_Sing~o\\tPRON.Masc.Sing\\to_PRON_Masc_Sing~que\\tPRON.Rel.Masc.Sing\\tque_PRON_Rel_Masc_Sing~eu\\tPRON.Sing\\teu_PRON_Sing~falo\\tVERB.Fin.Sing\\tfalar_VERB_Fin_Sing~porque\\tSCONJ\\tporque_SCONJ~eu\\tPRON.Sing\\teu_PRON_Sing~tirei\\tVERB.Fin.Sing\\ttirar_VERB_Fin_Sing~o\\tDET.Masc.Sing\\to_DET_Masc_Sing~seu\\tPRON.Masc.Sing\\tseu_PRON_Masc_Sing~você\\tPRON.Sing\\tvocê_PRON_Sing~é\\tAUX.Fin.Sing\\tser_AUX_Fin_Sing~um\\tDET.Masc.Sing\\tum_DET_Masc_Sing~chefe\\tNOUN.Masc.Sing\\tchefe_NOUN_Masc_Sing~pensante\\tADJ.Masc.Sing\\tpensante_ADJ_Masc_Sing~inteligente\\tADJ.Masc.Sing\\tinteligente_ADJ_Masc_Sing~se\\tSCONJ\\tse_SCONJ~fosse\\tAUX.Fin.Sing\\tser_AUX_Fin_Sing~olho\\tNOUN.Masc.Sing\\tolho_NOUN_Masc_Sing~não\\tADV\\tnão_ADV~importa\\tVERB.Fin.Sing\\timportar_VERB_Fin_Sing~se\\tSCONJ\\tse_SCONJ~você\\tPRON.Sing\\tvocê_PRON_Sing~tem\\tVERB.Fin.Sing\\tter_VERB_Fin_Sing~10\\tNUM\\t10_NUM~pessoas\\tNOUN.Fem.Plur\\tpessoa_NOUN_Fem_Plur~na\\tADP_DET.Fem.Sing\\tem_o_ADP_DET_Fem_Sing~sua\\tDET.Fem.Sing\\tseu_DET_Fem_Sing~rede\\tNOUN.Fem.Sing\\trede_NOUN_Fem_Sing~social\\tADJ.Fem.Sing\\tsocial_ADJ_Fem_Sing~se\\tSCONJ\\tse_SCONJ~você\\tPRON.Sing\\tvocê_PRON_Sing~já\\tADV\\tjá_ADV~é\\tAUX.Fin.Sing\\tser_AUX_Fin_Sing~uma\\tDET.Fem.Sing\\tum_DET_Fem_Sing~pessoa\\tNOUN.Fem.Sing\\tpessoa_NOUN_Fem_Sing~de\\tADP\\tde_ADP~influência\\tNOUN.Fem.Sing\\tinfluência_NOUN_Fem_Sing~uma\\tDET.Fem.Sing\\tum_DET_Fem_Sing~posição\\tNOUN.Fem.Sing\\tposição_NOUN_Fem_Sing~porque\\tSCONJ\\tporque_SCONJ~um\\tDET.Masc.Sing\\tum_DET_Masc_Sing~simples\\tADJ.Masc.Sing\\tsimples_ADJ_Masc_Sing~estão\\tAUX.Fin.Plur\\testar_AUX_Fin_Plur~marcando\\tVERB.Ger\\tmarcar_VERB_Ger~aqueles\\tPRON.Masc.Plur\\taquele_PRON_Masc_Plur~que\\tPRON.Rel.Masc.Plur\\tque_PRON_Rel_Masc_Plur~odeiam\\tVERB.Fin.Plur\\todiar_VERB_Fin_Plur~a\\tDET.Fem.Sing\\to_DET_Fem_Sing~palavra\\tNOUN.Fem.Sing\\tpalavra_NOUN_Fem_Sing~de\\tADP\\tde_ADP~deus\\tNOUN.Masc.Sing\\tdeus_NOUN_Masc_Sing~a\\tDET.Fem.Sing\\to_DET_Fem_Sing~igreja\\tNOUN.Fem.Sing\\tigreja_NOUN_Fem_Sing~de\\tADP\\tde_ADP~jesus\\tNOUN.Masc.Plur\\tjesus_NOUN_Masc_Plur~então\\tADV\\tentão_ADV~se\\tPRON.Masc.Sing\\tse_PRON_Masc_Sing~posicionado\\tVERB.Part.Masc.Sing\\tposicionar_VERB_Part_Masc_Sing~e\\tCCONJ\\te_CCONJ~eu\\tPRON.Sing\\teu_PRON_Sing~pro\\tVERB.Fin.Sing\\tpro_VERB_Fin_Sing~cidadão\\tNOUN.Masc.Sing\\tcidadão_NOUN_Masc_Sing~vão\\tAUX.Fin.Plur\\tir_AUX_Fin_Plur~impulsionar\\tVERB.Inf\\timpulsionar_VERB_Inf~e\\tCCONJ\\te_CCONJ~você\\tPRON.Fem.Sing\\tvocê_PRON_Fem_Sing~como\\tADP\\tcomo_ADP~cidadão\\tNOUN.Masc.Sing\\tcidadão_NOUN_Masc_Sing~quais\\tPRON.Rel.Fem.Plur\\tqual_PRON_Rel_Fem_Plur~são\\tAUX.Fin.Plur\\tser_AUX_Fin_Plur~as\\tDET.Fem.Plur\\to_DET_Fem_Plur~suas\\tDET.Fem.Plur\\tseu_DET_Fem_Plur~posições\\tNOUN.Fem.Plur\\tposição_NOUN_Fem_Plur~diante\\tADV\\tdiante_ADV~das\\tADP_DET.Fem.Plur\\tde_o_ADP_DET_Fem_Plur~demandas\\tNOUN.Fem.Plur\\tdemanda_NOUN_Fem_Plur~da\\tADP_DET.Fem.Sing\\tde_o_ADP_DET_Fem_Sing~nação\\tNOUN.Fem.Sing\\tnação_NOUN_Fem_Sing~da\\tADP_DET.Fem.Sing\\tde_o_ADP_DET_Fem_Sing~sociedade\\tNOUN.Fem.Sing\\tsociedade_NOUN_Fem_Sing~se\\tPRON\\tse_PRON~posicione\\tVERB.Fin.Sing\\tposicionar_VERB_Fin_Sing~o\\tDET.Masc.Sing\\to_DET_Masc_Sing~mundo\\tNOUN.Masc.Sing\\tmundo_NOUN_Masc_Sing~é\\tAUX.Fin.Sing\\tser_AUX_Fin_Sing~de\\tADP\\tde_ADP~quem\\tPRON.Rel.Sing\\tquem_PRON_Rel_Sing~se\\tPRON.Sing\\tse_PRON_Sing~posiciona\\tVERB.Fin.Sing\\tposicionar_VERB_Fin_Sing~'"
      ]
     },
     "execution_count": 11,
     "metadata": {},
     "output_type": "execute_result"
    }
   ],
   "source": [
    "df.loc[1, 'content']"
   ]
  },
  {
   "cell_type": "markdown",
   "id": "8e9c0075-1231-4e5a-bf30-ca5bdfa7322f",
   "metadata": {},
   "source": [
    "## Exporting the DataFrame into `tweets/tagged2.txt`"
   ]
  },
  {
   "cell_type": "code",
   "execution_count": 12,
   "id": "d4d59f0b-22cf-4f33-b64b-f27f50ac9f30",
   "metadata": {},
   "outputs": [],
   "source": [
    "df.to_csv('tweets/tagged2.txt', sep='|', index=False, header=False, encoding='utf-8', lineterminator='\\n', doublequote=False, escapechar=' ')"
   ]
  },
  {
   "cell_type": "code",
   "execution_count": null,
   "id": "e5ca4f59-aafb-4b18-afc1-6d53f78fa684",
   "metadata": {},
   "outputs": [],
   "source": []
  }
 ],
 "metadata": {
  "kernelspec": {
   "display_name": "Python 3 (ipykernel)",
   "language": "python",
   "name": "python3"
  },
  "language_info": {
   "codemirror_mode": {
    "name": "ipython",
    "version": 3
   },
   "file_extension": ".py",
   "mimetype": "text/x-python",
   "name": "python",
   "nbconvert_exporter": "python",
   "pygments_lexer": "ipython3",
   "version": "3.10.12"
  }
 },
 "nbformat": 4,
 "nbformat_minor": 5
}
