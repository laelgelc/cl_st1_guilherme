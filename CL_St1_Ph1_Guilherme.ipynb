{
 "cells": [
  {
   "cell_type": "markdown",
   "id": "810d9f10-ec19-4b09-8f90-e983e460b319",
   "metadata": {},
   "source": [
    "<center>\n",
    "<img src=\"https://laelgelcpublic.s3.sa-east-1.amazonaws.com/lael_50_years_narrow_white.png.no_years.400px_96dpi.png\" width=\"300\" alt=\"LAEL 50 years logo\">\n",
    "<h3>APPLIED LINGUISTICS GRADUATE PROGRAMME (LAEL)</h3>\n",
    "</center>\n",
    "<hr>"
   ]
  },
  {
   "cell_type": "markdown",
   "id": "888c2c96-2fc3-4a1a-995b-c388036a2a15",
   "metadata": {},
   "source": [
    "# Corpus Linguistics - Study 1 - Phase 1 - Guilherme"
   ]
  },
  {
   "cell_type": "markdown",
   "id": "0f3ad8a7-2d34-476b-be69-5d896b27d3ed",
   "metadata": {},
   "source": [
    "## Prerequisites"
   ]
  },
  {
   "cell_type": "markdown",
   "id": "0f1209cf-0515-45b3-8856-275ac692943e",
   "metadata": {},
   "source": [
    "Make sure the prerequisites in [CL_LMDA_prerequisites](https://github.com/laelgelc/laelgelc/blob/main/CL_LMDA_prerequisites.ipynb) are satisfied."
   ]
  },
  {
   "cell_type": "markdown",
   "id": "176abf37-6b08-47ca-a542-198d259060bb",
   "metadata": {},
   "source": [
    "### Additional prerequisites"
   ]
  },
  {
   "cell_type": "markdown",
   "id": "2df16305-d0bc-40b1-82f3-0145fb3de6f0",
   "metadata": {},
   "source": [
    "#### WebVTT"
   ]
  },
  {
   "cell_type": "markdown",
   "id": "7eff70eb-fd2a-4194-bb29-585fa2c1f5c8",
   "metadata": {},
   "source": [
    "`webvtt-py` is a Python package for reading/writing WebVTT caption files.\n",
    "\n",
    "Please refer to:\n",
    "- [webvtt-py](https://pypi.org/project/webvtt-py/)"
   ]
  },
  {
   "cell_type": "markdown",
   "id": "5fc54997-f65c-4c4e-8717-1adc576cdab9",
   "metadata": {},
   "source": [
    "##### Installing `webvtt-py` on Anacoda Distribution"
   ]
  },
  {
   "cell_type": "markdown",
   "id": "b9a979cb-9445-4128-9b42-8335bc57b644",
   "metadata": {},
   "source": [
    "As `webvtt-py` is not available in any of the conda channels, the following procedure should be followed on `Anaconda Prompt` to install it in the required environment, in this case `Env20240401`:"
   ]
  },
  {
   "cell_type": "markdown",
   "id": "096d8482-ffa6-47b9-842f-525d09acfbda",
   "metadata": {},
   "source": [
    "Note:\n",
    "- Replace `Env20240401` by your actual environment name"
   ]
  },
  {
   "cell_type": "raw",
   "id": "397f091e-9005-41d9-a8e5-d54e652eb1cf",
   "metadata": {},
   "source": [
    "(base) C:\\Users\\eyamr>conda env list\n",
    "# conda environments:\n",
    "#\n",
    "base                  *  C:\\Users\\eyamr\\anaconda3\n",
    "Env20240401              C:\\Users\\eyamr\\anaconda3\\envs\\Env20240401\n",
    "\n",
    "\n",
    "(base) C:\\Users\\eyamr>conda activate Env20240401\n",
    "\n",
    "(Env20240401) C:\\Users\\eyamr>pip3 install webvtt-py\n",
    "<omitted>\n",
    "\n",
    "(Env20240401) C:\\Users\\eyamr>pip3 freeze\n",
    "<omitted>\n",
    "webvtt-py==0.5.0\n",
    "<omitted>\n",
    "\n",
    "(Env20240401) C:\\Users\\eyamr>conda deactivate\n",
    "\n",
    "(base) C:\\Users\\eyamr>"
   ]
  },
  {
   "cell_type": "markdown",
   "id": "c75d5093-a79a-4c09-bd1c-4220c40b90e6",
   "metadata": {},
   "source": [
    "## WebVTT proof of concept"
   ]
  },
  {
   "cell_type": "markdown",
   "id": "3b359393-764d-47f7-bfa0-fb736be47cc1",
   "metadata": {},
   "source": [
    "Please refer to:\n",
    "- [CL_webvtt-py_Extraction](https://github.com/laelgelc/laelgelc/blob/main/CL_webvtt-py_Extraction.ipynb)"
   ]
  },
  {
   "cell_type": "markdown",
   "id": "48b6c3de-c437-4675-826e-75759ea4d970",
   "metadata": {},
   "source": [
    "## Dataset"
   ]
  },
  {
   "cell_type": "markdown",
   "id": "5bbee987-981e-4e35-9c99-63cbcb132bd6",
   "metadata": {},
   "source": [
    "Please download the following dataset (Right-click on the link and choose `Open link in a new tab` to download the corresponding file):\n",
    "- [cl_st1_guilherme-dataset.zip](https://pucsp-my.sharepoint.com/:u:/g/personal/ra00341729_pucsp_edu_br/EazB9wcuMSNEuxenV9Nb78ABGT8YTV0kwQJFgFymEDwhRA?e=PATjQW)"
   ]
  },
  {
   "cell_type": "markdown",
   "id": "acb5ac9f-49c4-459b-a6a5-91864c30c659",
   "metadata": {},
   "source": [
    "Extract the .zip file in the directory where this Jupyter Notebook is being executed."
   ]
  },
  {
   "cell_type": "markdown",
   "id": "a10c3a80-3acb-41e3-8fae-eb855afac90c",
   "metadata": {},
   "source": [
    "## Importing the required libraries"
   ]
  },
  {
   "cell_type": "code",
   "execution_count": 1,
   "id": "8b97929e-c64a-4e9e-8cba-ce5765f0f328",
   "metadata": {},
   "outputs": [],
   "source": [
    "import webvtt\n",
    "import pandas as pd\n",
    "import re\n",
    "import os"
   ]
  },
  {
   "cell_type": "markdown",
   "id": "0938ddf6-1b87-4125-9548-6b874727b35b",
   "metadata": {},
   "source": [
    "## Data wrangling"
   ]
  },
  {
   "cell_type": "markdown",
   "id": "7ed9e600-411c-4088-a109-544680df9d5d",
   "metadata": {},
   "source": [
    "### Defining the input and output directory names"
   ]
  },
  {
   "cell_type": "code",
   "execution_count": 2,
   "id": "3e143317-88a1-4740-8913-741748b478a9",
   "metadata": {},
   "outputs": [],
   "source": [
    "input_directory = 'cl_st1_guilherme-dataset'\n",
    "output_directory = input_directory + '-output'"
   ]
  },
  {
   "cell_type": "markdown",
   "id": "e077f8ba-37be-4336-b5a6-67cde82a46a4",
   "metadata": {},
   "source": [
    "### Defining a function to extract caption texts"
   ]
  },
  {
   "cell_type": "code",
   "execution_count": 3,
   "id": "0890ec98-0e9f-491a-b112-3f52433e9c40",
   "metadata": {},
   "outputs": [],
   "source": [
    "def extract_caption_text(webvtt_file, caption_file):\n",
    "    vtt = webvtt.read(webvtt_file)\n",
    "    \n",
    "    # Writing the text of the caption to the output file\n",
    "    with open(caption_file, 'w', encoding='utf-8') as f:\n",
    "        f.write('text' + '\\n') # Includes the header that will be used in the dataframe\n",
    "        for caption in vtt:\n",
    "            f.write(caption.text + '\\n')\n",
    "    \n",
    "    # Deduplicating the text of the caption using a dataframe\n",
    "    df = pd.read_table(caption_file)\n",
    "    df['text'] = df['text'].map(str)\n",
    "    df.drop_duplicates(subset='text', keep='first', inplace=True)\n",
    "    df = df.reset_index(drop=True)\n",
    "    \n",
    "    # Creating a single string containing all 'text' values separated by spaces\n",
    "    text_line = ' '.join(df['text'])\n",
    "\n",
    "    # Rewriting the output file with the single string\n",
    "    with open(caption_file, 'w', encoding='utf-8') as f:\n",
    "        f.write(text_line)"
   ]
  },
  {
   "cell_type": "markdown",
   "id": "cea964e0-7939-462d-b89b-172510dfcb81",
   "metadata": {},
   "source": [
    "### Defining a function to recursively process the `input_directory` and store the results in `output_directory`"
   ]
  },
  {
   "cell_type": "code",
   "execution_count": 4,
   "id": "990dca26-1853-4ea5-b19d-cb07e836392e",
   "metadata": {},
   "outputs": [],
   "source": [
    "def process_directory(input_directory, output_directory):\n",
    "    for root, dirs, files in os.walk(input_directory):\n",
    "        for filename in files:\n",
    "            if filename.endswith('.vtt'):\n",
    "                # Constructing the corresponding caption filename\n",
    "                base_name = os.path.splitext(filename)[0]\n",
    "                caption_filename = base_name + '.txt'\n",
    "\n",
    "                # Creating the output subdirectory structure\n",
    "                relative_path = os.path.relpath(root, input_directory)\n",
    "                output_subdir = os.path.join(output_directory, relative_path)\n",
    "                os.makedirs(output_subdir, exist_ok=True)\n",
    "\n",
    "                # Full paths for input and output files\n",
    "                input_file_path = os.path.join(root, filename)\n",
    "                output_file_path = os.path.join(output_subdir, caption_filename)\n",
    "\n",
    "                # Calling 'extract_caption_text' function\n",
    "                extract_caption_text(input_file_path, output_file_path)"
   ]
  },
  {
   "cell_type": "markdown",
   "id": "740705b7-6f5f-479e-99b3-99f6ecf30257",
   "metadata": {},
   "source": [
    "### Processing the dataset"
   ]
  },
  {
   "cell_type": "code",
   "execution_count": 5,
   "id": "8c111341-7b5a-4198-a5bc-aee205c81129",
   "metadata": {},
   "outputs": [],
   "source": [
    "process_directory(input_directory, output_directory)"
   ]
  },
  {
   "cell_type": "markdown",
   "id": "3242a2e6-0f3c-49f8-a409-a2eac9be4173",
   "metadata": {},
   "source": [
    "### Importing the texts into a dataframe"
   ]
  },
  {
   "cell_type": "code",
   "execution_count": 6,
   "id": "d341e269-03f9-4532-9184-43ae7c16546e",
   "metadata": {},
   "outputs": [],
   "source": [
    "def read_file_contents(file_path):\n",
    "    try:\n",
    "        with open(file_path, 'r', encoding='utf-8') as f:\n",
    "            return f.read()\n",
    "    except Exception as e:\n",
    "        print(f'Error reading file {file_path}: {e}')\n",
    "        return None\n",
    "\n",
    "def process_output_directory(output_directory):\n",
    "    # Initialize an empty list to store data\n",
    "    data = []\n",
    "\n",
    "    # Recursively iterate through the output_directory\n",
    "    for root, _, files in os.walk(output_directory):\n",
    "        for filename in files:\n",
    "            file_path = os.path.join(root, filename)\n",
    "            file_contents = read_file_contents(file_path)\n",
    "            if file_contents is not None:\n",
    "                data.append({'text': file_contents, 'filepath': file_path})\n",
    "\n",
    "    # Create a DataFrame from the collected data\n",
    "    df = pd.DataFrame(data)\n",
    "\n",
    "    return df\n",
    "\n",
    "# Importing the texts into the dataframe 'df_tweets_filtered'. Even though this study does not relate to 'tweets', this dataframe name is adopted in order to enable code reuse in subsequent processing stages\n",
    "df_tweets_filtered = process_output_directory(output_directory)"
   ]
  },
  {
   "cell_type": "code",
   "execution_count": 7,
   "id": "8b3c2334-eef2-4b8f-8b03-423f219eb533",
   "metadata": {},
   "outputs": [
    {
     "data": {
      "text/html": [
       "<div>\n",
       "<style scoped>\n",
       "    .dataframe tbody tr th:only-of-type {\n",
       "        vertical-align: middle;\n",
       "    }\n",
       "\n",
       "    .dataframe tbody tr th {\n",
       "        vertical-align: top;\n",
       "    }\n",
       "\n",
       "    .dataframe thead th {\n",
       "        text-align: right;\n",
       "    }\n",
       "</style>\n",
       "<table border=\"1\" class=\"dataframe\">\n",
       "  <thead>\n",
       "    <tr style=\"text-align: right;\">\n",
       "      <th></th>\n",
       "      <th>text</th>\n",
       "      <th>filepath</th>\n",
       "    </tr>\n",
       "  </thead>\n",
       "  <tbody>\n",
       "    <tr>\n",
       "      <th>0</th>\n",
       "      <td>e a Bíblia é a verdade absoluta é a palavra de...</td>\n",
       "      <td>cl_st1_guilherme-dataset-output/MALAFAIA RESPO...</td>\n",
       "    </tr>\n",
       "    <tr>\n",
       "      <th>1</th>\n",
       "      <td>e eu não vou me calar por uma série de coisas ...</td>\n",
       "      <td>cl_st1_guilherme-dataset-output/MALAFAIA RESPO...</td>\n",
       "    </tr>\n",
       "    <tr>\n",
       "      <th>2</th>\n",
       "      <td>eu vou dizer uma coisa para você que ele faz e...</td>\n",
       "      <td>cl_st1_guilherme-dataset-output/MALAFAIA RESPO...</td>\n",
       "    </tr>\n",
       "    <tr>\n",
       "      <th>3</th>\n",
       "      <td>e decida salvar seu casamento sabe por quê Por...</td>\n",
       "      <td>cl_st1_guilherme-dataset-output/MALAFAIA RESPO...</td>\n",
       "    </tr>\n",
       "    <tr>\n",
       "      <th>4</th>\n",
       "      <td>e você vai ter que lutar para receber as prome...</td>\n",
       "      <td>cl_st1_guilherme-dataset-output/MOTIVACIONAL P...</td>\n",
       "    </tr>\n",
       "    <tr>\n",
       "      <th>...</th>\n",
       "      <td>...</td>\n",
       "      <td>...</td>\n",
       "    </tr>\n",
       "    <tr>\n",
       "      <th>1821</th>\n",
       "      <td>a visão correta da vida você tem que ter um ol...</td>\n",
       "      <td>cl_st1_guilherme-dataset-output/MINUTOS DE VIT...</td>\n",
       "    </tr>\n",
       "    <tr>\n",
       "      <th>1822</th>\n",
       "      <td>conseguiu garantir só você tem que entender al...</td>\n",
       "      <td>cl_st1_guilherme-dataset-output/MINUTOS DE VIT...</td>\n",
       "    </tr>\n",
       "    <tr>\n",
       "      <th>1823</th>\n",
       "      <td>é o desafio de vencer a nossa natureza a chama...</td>\n",
       "      <td>cl_st1_guilherme-dataset-output/MINUTOS DE VIT...</td>\n",
       "    </tr>\n",
       "    <tr>\n",
       "      <th>1824</th>\n",
       "      <td>características de quem quer produzir obras de...</td>\n",
       "      <td>cl_st1_guilherme-dataset-output/MINUTOS DE VIT...</td>\n",
       "    </tr>\n",
       "    <tr>\n",
       "      <th>1825</th>\n",
       "      <td>Considere isso que eu vou te falar sobre a que...</td>\n",
       "      <td>cl_st1_guilherme-dataset-output/MINUTOS DE VIT...</td>\n",
       "    </tr>\n",
       "  </tbody>\n",
       "</table>\n",
       "<p>1826 rows × 2 columns</p>\n",
       "</div>"
      ],
      "text/plain": [
       "                                                   text  \\\n",
       "0     e a Bíblia é a verdade absoluta é a palavra de...   \n",
       "1     e eu não vou me calar por uma série de coisas ...   \n",
       "2     eu vou dizer uma coisa para você que ele faz e...   \n",
       "3     e decida salvar seu casamento sabe por quê Por...   \n",
       "4     e você vai ter que lutar para receber as prome...   \n",
       "...                                                 ...   \n",
       "1821  a visão correta da vida você tem que ter um ol...   \n",
       "1822  conseguiu garantir só você tem que entender al...   \n",
       "1823  é o desafio de vencer a nossa natureza a chama...   \n",
       "1824  características de quem quer produzir obras de...   \n",
       "1825  Considere isso que eu vou te falar sobre a que...   \n",
       "\n",
       "                                               filepath  \n",
       "0     cl_st1_guilherme-dataset-output/MALAFAIA RESPO...  \n",
       "1     cl_st1_guilherme-dataset-output/MALAFAIA RESPO...  \n",
       "2     cl_st1_guilherme-dataset-output/MALAFAIA RESPO...  \n",
       "3     cl_st1_guilherme-dataset-output/MALAFAIA RESPO...  \n",
       "4     cl_st1_guilherme-dataset-output/MOTIVACIONAL P...  \n",
       "...                                                 ...  \n",
       "1821  cl_st1_guilherme-dataset-output/MINUTOS DE VIT...  \n",
       "1822  cl_st1_guilherme-dataset-output/MINUTOS DE VIT...  \n",
       "1823  cl_st1_guilherme-dataset-output/MINUTOS DE VIT...  \n",
       "1824  cl_st1_guilherme-dataset-output/MINUTOS DE VIT...  \n",
       "1825  cl_st1_guilherme-dataset-output/MINUTOS DE VIT...  \n",
       "\n",
       "[1826 rows x 2 columns]"
      ]
     },
     "execution_count": 7,
     "metadata": {},
     "output_type": "execute_result"
    }
   ],
   "source": [
    "df_tweets_filtered"
   ]
  },
  {
   "cell_type": "markdown",
   "id": "35e4eac3-e506-40ed-b509-cad997fd066e",
   "metadata": {},
   "source": [
    "### Dropping duplicates"
   ]
  },
  {
   "cell_type": "markdown",
   "id": "c6d965be-50fb-4669-9922-0eaaf152c101",
   "metadata": {},
   "source": [
    "#### Duplicate texts"
   ]
  },
  {
   "cell_type": "markdown",
   "id": "c7426b0d-5cf7-4205-aca4-7fcd302af079",
   "metadata": {},
   "source": [
    "Checking for identical texts in terms of content of the column `text` in order to eliminate duplicates."
   ]
  },
  {
   "cell_type": "code",
   "execution_count": 8,
   "id": "0932955f-9a94-4aed-8f45-d63cd26c1296",
   "metadata": {},
   "outputs": [
    {
     "data": {
      "text/plain": [
       "(1811, 2)"
      ]
     },
     "execution_count": 8,
     "metadata": {},
     "output_type": "execute_result"
    }
   ],
   "source": [
    "df_tweets_filtered.drop_duplicates(subset='text', keep='first', inplace=True)\n",
    "df_tweets_filtered = df_tweets_filtered.reset_index(drop=True)\n",
    "df_tweets_filtered.shape"
   ]
  },
  {
   "cell_type": "code",
   "execution_count": 9,
   "id": "8333e700-315e-4eab-9400-897fc75caabb",
   "metadata": {},
   "outputs": [
    {
     "data": {
      "text/html": [
       "<div>\n",
       "<style scoped>\n",
       "    .dataframe tbody tr th:only-of-type {\n",
       "        vertical-align: middle;\n",
       "    }\n",
       "\n",
       "    .dataframe tbody tr th {\n",
       "        vertical-align: top;\n",
       "    }\n",
       "\n",
       "    .dataframe thead th {\n",
       "        text-align: right;\n",
       "    }\n",
       "</style>\n",
       "<table border=\"1\" class=\"dataframe\">\n",
       "  <thead>\n",
       "    <tr style=\"text-align: right;\">\n",
       "      <th></th>\n",
       "      <th>text</th>\n",
       "      <th>filepath</th>\n",
       "    </tr>\n",
       "  </thead>\n",
       "  <tbody>\n",
       "    <tr>\n",
       "      <th>0</th>\n",
       "      <td>e a Bíblia é a verdade absoluta é a palavra de...</td>\n",
       "      <td>cl_st1_guilherme-dataset-output/MALAFAIA RESPO...</td>\n",
       "    </tr>\n",
       "    <tr>\n",
       "      <th>1</th>\n",
       "      <td>e eu não vou me calar por uma série de coisas ...</td>\n",
       "      <td>cl_st1_guilherme-dataset-output/MALAFAIA RESPO...</td>\n",
       "    </tr>\n",
       "    <tr>\n",
       "      <th>2</th>\n",
       "      <td>eu vou dizer uma coisa para você que ele faz e...</td>\n",
       "      <td>cl_st1_guilherme-dataset-output/MALAFAIA RESPO...</td>\n",
       "    </tr>\n",
       "    <tr>\n",
       "      <th>3</th>\n",
       "      <td>e decida salvar seu casamento sabe por quê Por...</td>\n",
       "      <td>cl_st1_guilherme-dataset-output/MALAFAIA RESPO...</td>\n",
       "    </tr>\n",
       "    <tr>\n",
       "      <th>4</th>\n",
       "      <td>e você vai ter que lutar para receber as prome...</td>\n",
       "      <td>cl_st1_guilherme-dataset-output/MOTIVACIONAL P...</td>\n",
       "    </tr>\n",
       "    <tr>\n",
       "      <th>...</th>\n",
       "      <td>...</td>\n",
       "      <td>...</td>\n",
       "    </tr>\n",
       "    <tr>\n",
       "      <th>1806</th>\n",
       "      <td>a visão correta da vida você tem que ter um ol...</td>\n",
       "      <td>cl_st1_guilherme-dataset-output/MINUTOS DE VIT...</td>\n",
       "    </tr>\n",
       "    <tr>\n",
       "      <th>1807</th>\n",
       "      <td>conseguiu garantir só você tem que entender al...</td>\n",
       "      <td>cl_st1_guilherme-dataset-output/MINUTOS DE VIT...</td>\n",
       "    </tr>\n",
       "    <tr>\n",
       "      <th>1808</th>\n",
       "      <td>é o desafio de vencer a nossa natureza a chama...</td>\n",
       "      <td>cl_st1_guilherme-dataset-output/MINUTOS DE VIT...</td>\n",
       "    </tr>\n",
       "    <tr>\n",
       "      <th>1809</th>\n",
       "      <td>características de quem quer produzir obras de...</td>\n",
       "      <td>cl_st1_guilherme-dataset-output/MINUTOS DE VIT...</td>\n",
       "    </tr>\n",
       "    <tr>\n",
       "      <th>1810</th>\n",
       "      <td>Considere isso que eu vou te falar sobre a que...</td>\n",
       "      <td>cl_st1_guilherme-dataset-output/MINUTOS DE VIT...</td>\n",
       "    </tr>\n",
       "  </tbody>\n",
       "</table>\n",
       "<p>1811 rows × 2 columns</p>\n",
       "</div>"
      ],
      "text/plain": [
       "                                                   text  \\\n",
       "0     e a Bíblia é a verdade absoluta é a palavra de...   \n",
       "1     e eu não vou me calar por uma série de coisas ...   \n",
       "2     eu vou dizer uma coisa para você que ele faz e...   \n",
       "3     e decida salvar seu casamento sabe por quê Por...   \n",
       "4     e você vai ter que lutar para receber as prome...   \n",
       "...                                                 ...   \n",
       "1806  a visão correta da vida você tem que ter um ol...   \n",
       "1807  conseguiu garantir só você tem que entender al...   \n",
       "1808  é o desafio de vencer a nossa natureza a chama...   \n",
       "1809  características de quem quer produzir obras de...   \n",
       "1810  Considere isso que eu vou te falar sobre a que...   \n",
       "\n",
       "                                               filepath  \n",
       "0     cl_st1_guilherme-dataset-output/MALAFAIA RESPO...  \n",
       "1     cl_st1_guilherme-dataset-output/MALAFAIA RESPO...  \n",
       "2     cl_st1_guilherme-dataset-output/MALAFAIA RESPO...  \n",
       "3     cl_st1_guilherme-dataset-output/MALAFAIA RESPO...  \n",
       "4     cl_st1_guilherme-dataset-output/MOTIVACIONAL P...  \n",
       "...                                                 ...  \n",
       "1806  cl_st1_guilherme-dataset-output/MINUTOS DE VIT...  \n",
       "1807  cl_st1_guilherme-dataset-output/MINUTOS DE VIT...  \n",
       "1808  cl_st1_guilherme-dataset-output/MINUTOS DE VIT...  \n",
       "1809  cl_st1_guilherme-dataset-output/MINUTOS DE VIT...  \n",
       "1810  cl_st1_guilherme-dataset-output/MINUTOS DE VIT...  \n",
       "\n",
       "[1811 rows x 2 columns]"
      ]
     },
     "execution_count": 9,
     "metadata": {},
     "output_type": "execute_result"
    }
   ],
   "source": [
    "df_tweets_filtered"
   ]
  },
  {
   "cell_type": "markdown",
   "id": "fcee3767-aec7-45d2-8ccc-6d1f75699c85",
   "metadata": {},
   "source": [
    "### Inspecting a few tweets"
   ]
  },
  {
   "cell_type": "code",
   "execution_count": 10,
   "id": "52ca4ba7-cc04-4ccf-9bc7-2d8a126b9139",
   "metadata": {},
   "outputs": [
    {
     "name": "stdout",
     "output_type": "stream",
     "text": [
      "text:o povo abençoado do Brasil inacreditável absurdo dos Absurdos uma juíza do Rio Grande do Sul na Lúcia resolveu que a partir da abertura oficial da campanha eleitoral é proibido usar a bandeira do Brasil porque eu tô envolvido com ela o verde e amarelo porque representa um lado ela quer apareceu não tem nada que fazer é petista Unidos onde um povo é nacionalista tá usa a Americana esquerda comunista É por isso agora aqui no Brasil parte da Europa e na América Latina esquerda influenciada pela esquerda comunista por isso que eles usam vermelho bolsonaro trouxe de volta ao brasileiro nacionalismo que o PT apagou Então as manifestações motor ciata Onde bolsonaro vai de maneira espontânea o povo leva E aí essas imagens agora onde Rua Vital PT que vai ser cinismo para enganar mais uma vez o povo que eles usam vermelho que para ele aí deu orgia para cima da Nação de seu símbolo Vocês estão vendo aí eles usam vermelho o vermelho representa a bandeira comunista aqui ó Foi não é daqui a foice eo martelo com essa porcaria aqui a gente vai esse aqui ó ó rasca e joga no lixo não é prata cá as pessoas que usam vermelho nós temos que aprender a respeitar as pessoas mas isso aí é lixo essa aqui não essa aqui nos representa isso aqui é nacionalismo isso aqui é Brasil que nós amamos a nossa bandeira jamais será vermelha eu vou terminar o meu vídeo mostrando uma fala do presidente que eu concordo o grau escuros Brasil acima de tudo Deus acima de todos E aí\n"
     ]
    }
   ],
   "source": [
    "inspected_row = 1277\n",
    "print('text:' + df_tweets_filtered.loc[inspected_row, 'text'])"
   ]
  },
  {
   "cell_type": "markdown",
   "id": "13fb2127-3485-402c-aae0-95f4b8499ee2",
   "metadata": {},
   "source": [
    "## Exporting to a file"
   ]
  },
  {
   "cell_type": "markdown",
   "id": "c113c53e-bdf4-4653-a90c-2a47fc655b65",
   "metadata": {},
   "source": [
    "### JSONL format"
   ]
  },
  {
   "cell_type": "code",
   "execution_count": 11,
   "id": "04efc496-8304-4b3d-ba91-64ffbc21728c",
   "metadata": {},
   "outputs": [],
   "source": [
    "df_tweets_filtered[['text', 'filepath']].to_json('tweets_filtered.jsonl', orient='records', lines=True)"
   ]
  },
  {
   "cell_type": "markdown",
   "id": "a61bbba5-4057-40b7-b53b-29ba7f97526f",
   "metadata": {},
   "source": [
    "### TSV format"
   ]
  },
  {
   "cell_type": "code",
   "execution_count": 12,
   "id": "eadf6dc2-69dc-41e9-831f-618b8b0dbc1a",
   "metadata": {},
   "outputs": [],
   "source": [
    "df_tweets_filtered[['text', 'filepath']].to_csv('tweets_filtered.tsv', sep='\\t', index=False, encoding='utf-8', lineterminator='\\n')"
   ]
  },
  {
   "cell_type": "markdown",
   "id": "3b3e97d4-9152-4ce9-a323-30b3a4ac2efd",
   "metadata": {},
   "source": [
    "## Importing the Target Corpus into a DataFrame"
   ]
  },
  {
   "cell_type": "code",
   "execution_count": 2,
   "id": "9f6bcc09-02d9-4e0c-a121-340cbf6b2260",
   "metadata": {},
   "outputs": [],
   "source": [
    "df_tweets_filtered = pd.read_json('tweets_filtered.jsonl', lines=True)"
   ]
  },
  {
   "cell_type": "markdown",
   "id": "10fa6363-7175-4007-a270-d2306125261e",
   "metadata": {},
   "source": [
    "### Dropping identified duplicates"
   ]
  },
  {
   "cell_type": "markdown",
   "id": "b5840ce7-1cb6-4484-84e4-e2524f2e3421",
   "metadata": {},
   "source": [
    "An examination of the final results showed that the texts in rows 730 and 738 are duplicates with slight differences in their transcripts."
   ]
  },
  {
   "cell_type": "code",
   "execution_count": 13,
   "id": "48470cd6-0035-446c-b8fa-824f183c9fca",
   "metadata": {},
   "outputs": [
    {
     "name": "stdout",
     "output_type": "stream",
     "text": [
      "text:a página de cristo para todos eu tenho muita certeza que a palavra do senhor é algo que produz vida que traz esperança e que nos dá uma nova dimensão do nosso dever eu estou apresentando pra você mais uma mensagem que vai falar ao seu coração se você quer receber um catálogo de todo o nosso material é só você entrar em contato com a nossa central de telefones 0 o perh adorava 21 2598 2019 você pode receber na sua casa no brasil ou no exterior todo o nosso material nós queremos entregar a mensagem que pode transformar a vida do homem se prepare eu tenho certeza que deus vai falar com você através desta mensagem [Música] diz assim a palavra carta de paulo aos efésios capítulo 6 os quatro primeiros versículos voz filhos serem obedientes a vossos pais no senhor porque isto é justo ou ateu pai ea tua mãe que é o primeiro mandamento com promessa para activar bem e vivas muito tempo sobre a terra e voz pais não provoquei sairá vossos filhos mas criei os na doutrina e admoestação do senhor eu tenho uma palavra aqui para os pais porque fala pais e filhos mas para os pais e para os jovens aqui eu queria mostrar alguns tipos de países em primeiro lugar estou falando de paz estou falando da figura paterna e da figura materna ou qualquer um que venha a substituir a voz é a voz que fazem o papel de pai de mãe tem um tio não é qualquer um que ocupe esse lugar é pra você que eu também estou falando não só aqueles não é aqueles que são os pais diretos mas pra você que faz o papel de pai ou de mãe eu queria mostrar que alguns tipos de paz não vou dizer aqui no na presunção minha de falar sobre todos os tipos de pais que existem não mas alguns que eu achei importante que eu acho interessante eu espero pra você que você só tenha incluído lá no último que eu falar tá bom só no último tipo viu então a minha palavra primeira principais para a garotada que está aqui respirar alegre contente e depois chega a vez de vocês eu quero falar para os jovens aqui não é quantos pais trouxeram seus filhos aqui hoje que trouxe levante a mão ok beleza está perto de você maravilha teus posto perto esposa lindo lindo lindo não vale cultura velada não vale na hora da mensagem cotovelada é pra você essa não vale aguenta aí tá certo alguns tipos de pais vamos lá número 1 os pais rejeitar dores sabia que têm pais rejeitar dores mas porque o vários motivos preferência o pai prefere o joão ea mãe prefere o mario então se o pai prefere o joão ele rejeita o mário ea mãe que prefere o mário rejeito joão e o filho gente percebe que ele é rejeitado confira gente capaz há coisa pior que tenham é essa preferência por filho dentro de uma família mais rejeitar dores se quer ver também porque rejeitam nós queremos um menino macacão azul o quarto azul o berço azul a coberta azul ae a tomografia computadorizada sei lá o que mais deu errado e vem uma menina queria um menino já tinham comprado todo o enxoval de menino mas veio uma menina aí rejeitam ou então o contrário agora nós queremos uma menina tudo é rosa a coxa e rosa até a fraude rossi o actor rosa o quarto e rosa tudo rosa aí vem um marmanjo queria uma menina passam a rejeitar aquele garoto que quer ver outra coisa onde eu cheguei em uma empresa aí a menina que estava a secretária do diretor estava chorando que me atendeu a jovem mulher a mulher de de 25 26 anos chorando eu fiquei incomodado com aquilo ela estava sentada atrás de uma mesa eu disse o que está acontecendo com você querida aí eu fui olhar uma gravidez de seis sete meses mais ou menos aí eu cá comigo jesus será que a criança está com algum problema e ela já sabe eu falei mais do que tem eu vi que ela estava grávida mas você está achando porque tem alguma coisa com ele agora a ela apareceu aí de repente na sua barriga é eu falo português é claro a entender logo aí eu disse assim aí eu falei filha você não sabe o mal que você está fazendo você está rejeitando essa criança dentro do teu ventre essa criança vai ser rejeitada por toda a sua vida e você vai trazer sequelas irreparáveis nessa crença não faça isso começa a dizer graças a deus por essa criança que vem essa criança vai ser uma benção não faça isso minha filha e tem um monte de gente que a mulher trabalha aí a criança vem de uma hora que não queria e rejeito aquela criança pais rejeitar dores há porquê porque a criança lembra de alguma figura que marcou por exemplo um pai mal olha como é que esse moleque parece que meu pai me importo parece que meu pai ou então um irmão um tio alguém da família algum trauma alguma marca a criança não tem nada a ver com isso só porque ela parece ela é rejeitada você não sabe que perversidade olha meu sogro é pai de 11 filhos 24 netos eu nunca vi meu sobre minha sogra ter preferência por filho nem por neto nem trata todo mundo igual trate seus filhos iguais ame a todos desejo a todos não rejeite nem link que você vai criar problema pra eles e pra você um outro tipo de pai os violentos mais violentos sim o camarada na raiva raquetada rabo de arraia pescou o tapa tesoura voadora e não quer nem saber onde é que pega olha vou dizer uma coisa que eu tô aqui falando olha pastores colegas eu vou dizer uma coisa se alguém na igreja já na igreja que eu pertenço chegar a mãe seja figura paterna ou materna e alguém com que se olha a taxa plantando filha criança tá toda marcada chegou até a quebrar a mão quebrada do quebrar a perna está toda marcada a primeira coisa que vou fazer é chamar requerido que história é essa filho negócio não é né coisa filho uma coisa a criança é um pequeno cidadão e você não é proprietário dela para fazer o que você quer para com isso porque porque a próxima queixa que tiver eu te denunciou na polícia que negócio é esse meu irmão não tem refresco não é a primeira vez que você chama pra corrigir se continuar denúncia vai pra cadeia o camarada dá soco na criança quebra o braço quebra a perna o camarada recalcado com a vida que a escolher alguém gomes como escola para poder jogar toda a sua neura que é isso meu irmão eu não estou dizendo que você não deva aplicar algumas vezes naquela parte mais macia a havaiana o rider não tem problema não é até bom eu também não funcionam não falar tudo fala tudo de vez em quando uma punição é boa a criança já puniu moleque é bom né uma lacuna na parte a rechonchuda dele aqui meu chapinha aporte é isso mas é pra quebrar não é pra criar hematomas mais violentos a outro tipo de pai de paz paz ignorantes chegam sabe e paz ignorantes aí tem a gente pode fazer um leque aqui tem pais que nunca vão ganhar seus filhos pra jesus que são ignorantes vive falando mal da igreja falando mal de pastor falando mal de irmãos nunca vai ganhar os filhos é um ignorante ao invés de criar um filho amor pela obra de deus pela igreja cria na criança repulsa ignorante pais que se xingam e chico filho e não chega só de burro e idiota não é de coisa pesada ignorante a outro tipo de pai são os dominadores um é essa chegou a vez das senhoras mães geralmente pais dominadores a figura materna nessa área é a pior que tem nessa área mas vai chegar para os senhores haver dos senhores aqui é tem-se homens e têm uma pra vocês também geralmente a figura materna ela é castradora ela se após a se a posse ainda quando é homem e que a mãe é dominadora rapaz é por isso que tem um monte de marmanjo hoje que não toma decisão na vida a mãe será que eu já que de carga não a mulher casa com março para tomar a decisão não é com força à mãe sado não mulher gosta de homem a homem que decide carlos alberto o cara chega a mulher de bandido frouxo maricota sabe porquê porque a mãe dominou o camarada túlio deixa esse moleque dar uns cascudos na rua deixa de ganhar deixa ele falar no chão deixa deixa ele aprender a tomar decisão mesmo que seja errada ele aprendeu na vida à mãe domina meu garoto meu garoto que meu garoto que atacando que por isso que hoje eu nunca vi tanto homem se omitindo ea mulherada fica nervosa porque vê o cara não tomou uma posição de casa não tomar uma atitude e um sacerdote da sua casa porque foi colhido foi tão lindo principalmente pela manhã a figura de posse uma vez uma uma irmã chegou pra mim e despachou vamos separar eu vou me separar a lei negócio tá quente por qual motivo irmã e minha sogra que está acontecendo é tua sogra eo marido aos tons os dois times como é que a história o show veja só pastor a minha sogra que é dar um apartamento pra nós mas ela quer dar um apartamento do jeito que ela quer onde ela quer e meu marido tá lá aceita querida vamos aceitar ea faz aquilo pra me bater que ela sabe que eu não gosto daquele bairro ela sabe que eu não gosto eu falei pro marido deixe esse apartamento pra lá vamos construir a nossa vida é a mulher com mais com mais vontade do que é o cara eu chamo da manhã e aí moleque vai tabela estava uma pilha eu disse meu marido eu quero falar com ele onde é que está esse cara chamila aí vem um cara com a cara de de mané fala meu irmão tudo bem ele bem pastor a tua esposa está dizendo aqui que tua mãe que te dar um apartamento e ela não quer um apartamento que atua que a carta à mãe que tinha um apartamento é a tua esposa disseram que o apartamento e pastor que eu vou fazer é que você vai fazer tomar atitude de homem para ele acordou a múmia paralítica ressuscitou na hora ela toma jeito de homem rapaz você não está vendo que são jogo da sua mãe a sua mãe está fazendo uma disputa de você com a sua esposa você não percebeu isso querido ela está mostrando quem pode mas quem pode menos esse é o jogo para dominar a perturbar a tua casa perturbar o relacionamento vai perder a sua mulher que ela é bonita tudo ela essas coisas já deve dar graças a deus por essa mulher na pasta vai de graça tudo pela tua mãe que chega pra tua mente assim se a chora quer me dar alguma coisa a senhora tem que dar alguma coisa que eu e minha mulher concordamos então fica com teu apartamento que eu sou homem suficiente para conquistar na vida tá bom pastor tá bom pastor vai perder o casamento cada apartamento da mãe acaba com isso né mano tem um monte de mãe prometida meu filho até cuidando de vcs ela tá passando a rampa ela tá fazendo aquela comidinha que a mãe gasta ter um caso com a tua mãe a tua mulher não é a tua mãe deixará o homem seu pai sua mãe e une à do lixa acho a mulher mães dominadoras castro um homem incrível o cara nunca toma decisão na vida nunca tem coragem metroso em segundo o tempo todo mas ela é a mãe larga esse teu filho irmã larga deixa esses caras é homem e outra casou mori alguns quilômetros de distância da sogra em uma e se aqui irmãos é momento de descontração evangélica revelou que chegou pra mim e assim pastor quando minha sogra morrer eu vou enterrá-la de cabeça pra baixo em pé assim a lei mas nunca vi caixão geralmente é colocado assim assim ou naquelas gavetas não não nem que eu pague 5 o chez lugares no cemitério eu vou colocar ela de cabeça pra baixo o cachorro eu falei porque só gana crente é porque não há rebaixamento eu quero que ela seja arrebatada pelo japão e subir com ela sai pelo outro lado isso é brincadeira gente por que mulheres brigam com sogras por que por que mulheres brigam com sogras porque a mãe esqueceu que aquele filho agora é um homem e que tem que tomar conta de uma família que é mais um garotinho de 12 anos e ela quer disputa com a mulher o filho acabou está informada confusão por isso que quem casa quer casa caso o meu chapa vai morar num barraco mas sai daí e deixa eu dizer de passagem aqui pra vocês minha sogra é mil a minha sogra é mínimo de 10 não tem nenhum problema nessa área outro tipo de pais também têm homens dominadores deixa eu dizer que uma coisa de que a figura feminina é é fundamental nisso mas tem homens dominadores terríveis terrível terrível e eles se reportam isso a menina sabe muitas vezes eles a garota tem dificuldade terrível que o pai ninguém toca na minha filha não vou tocar na europa que dou um tiro na cara no chão após ouvir o senhor acha a menina deixa de ser bobo rapaz nós criamos filhos para os outros e não pra nós é uma lei da vida agora um outro tipo de paz e aí a figura paterna são os omissos aí a figura paterna é fundamental porque a lei ea ordem vem pelo homem a lei ea ordem na casa é dada pelo irmão olha eu não tem nada a ver com o conceito feminista eu tenho a ver com a bíblia ea própria psicologia social a sociologia dizem isso leia a ordem vem com o homem na casa não é com a mulher porque deus é sábio é princípio organizacional é princípio de organização lior ea ordem do homem o equilíbrio das partes é da mulher porque o homem é mais razão quem usa comando tem que usar mais a razão 1 quem traz o equilíbrio tem que usar mais a emoção ea mulher mais emotiva ela que traz harmonia da casa o homem que traz a lei ea ordem aí o homem não é sacerdote da sua casa é omisso e a figura paterna omissa eu disse numa reunião de pastores a figura paterna criança faz diferenciação social a partir da figura paterna da criança diferencia o mundo dela e da mãe e dos outros através do pai através da figura paterna porque é o primeiro objeto de amor da criança ea mãe é o primeiro objeto de conove meses dentro dela é a mãe que amamenta a criança só vai fazer ruptura e do pai essa figura apagada meu filho uma das causas do homossexualismo é a ausência da figura paterna é uma das causas é uma das não é única mas é uma mais e como diabo tem jogado pesado pra figura masculina ser ridicularizado e tudo que o homem toma de posição é machismo isso é machismo chama achismo machismo é o cara que violenta e domina pelo poder pela força subjuga maltrata é um ditador céu é o machismo na linguagem popular mas cabe ao homem a liderança é princípio organizacional todas as instituições no mundo tem que ter uma liderança para o equilíbrio dela ela cabe um homem é você meu irmão minha filha se vira pra lá com esse garoto se via que se vira rapaz que se vira s você é o dinheiro tá aqui vão se habituando dinheiro conta comigo que história é essa na página a sua figura fundamental a ausência da figura paterna para a menina sabe que causa no menino homossexualidade na menina ela passa a ser namoradeira em contraste porque tem uma ausência da figura paterna de afetividade do homem então namorada que mora ali para poder substituir aquela figura se aprovado gente se aprovado não seja omisso rapaz em sua decisão o pau tá quebrando ninguém quer saber de nada a omissão o filho está com problema filha com um problema e os pais não tão nem aí omisso o moleque a garota tão mal na escola e os pais não estão nem aí o bicho filho irmão golpe eu já conheço já eu eu dei um golpe no meu pai minha mãe meu filho aí é tudo que ele falou eu acredito me engana que eu adoro nem que eu gosto eu já dei um golpe no meu pai e minha mãe que a filha é filho mulher que é mulher e os lá de casa também que de vez em quando que me dá um golpe na passada caminhando e da minha casa negada só que o garoto aqui não é trouxa né eu tenho uma lacuna malandro pra caramba cada boletim ainda não saiu passa uma semana cada boletim ainda não saiu passa mais outra cadê o boletim ainda não saí não saiu vamos na escola tem zebra neste negócio não nos enrolar saiu há três semanas um lindo maravilha passeio suspenso glória a deus a brincadeira vai ser encerrada nesse bimestre deixa palavras querem saber se o filho está como é que está matando a bola só não tá no papo não vai à reunião de pais meu filho tem um ditado no mundo quem pariu mateus que o embale já ouviu esse ditado quem pariu mateus que o embale esse ditado é o seguinte o filho é teu cuide dele tá cuide dele você tem que saber tudo o que está acontecendo o garoto é é alegre e bagre cheiro ele anda queto em casa os dias o que tá acontecendo tem alguma coisa errada não é assim o pai conhece o estilo do filho tem alguma da filha tem alguma coisa errada olha meus irmãos um caso verídico amigos de meu irmão mais velho o rapaz que falava e tal como é que o diabo é terrível é perturbador satanás é tremendo é homicida aquele moço começou a ter dez homens o e suicidas e o diabo falando no coração dele teu pai e tua mãe não gostam de você mude seu comportamento que você vai ver que o pai também não gostam de você mude se ausente da tua casa vá pra casa dos amigos que teu pai e tua mãe não vão perguntar mude seja um cara quieto olha que o diabo é astuto um garoto de 15 anos ele começou então ele era alegre brincalhão brincava em casa ele começou a ficar quieto um dia 23 o pai ea mãe não perguntaram nada 456 ele mudou com o pai fez de propósito mudou o comportamento dele depois ele ia pra casa do coleguinha sabe ele é pra casa um colega e deixava com empregada olha diz que eu fui pra casa de fulano qualquer coisa que meu pai quiser aqui o telefone ele ficava três quatro dias e o pai ea mãe não telefonava ele se matou e deixou uma carta eu me matei porque eu vi que eu não sou nada pra você eu mudei meu comportamento eu passei pra casa dos meus amigos vocês nunca ligaram preocupados comigo gente não se limita a não meu irmão me chame tanan a outro tipo de pai os liberais onde está essa menina não sei sair com sequeira e sabe pode tudo filho pode tudo partido pode tudo pode tudo bem tal 7 benta os canecos não tem limites se você não dá limite até o filho ele não vai aprender a ter limite na sociedade ele vai pensar que o mundo é igual à casa dele não vai respeitar nunca ninguém um dia desses um funcionário lado do meu escritório um funcionário falou lá pra para o menino coordenador é criado com tudo que tem tudo que tem tudo o que quer a mãe nunca diz não faz o que quer aí a garota que é chefe de uma hora de sair eu não recebo nada de ninguém eu não beber só de ninguém trabalhando aí me falaram que se manda embora agora pode mandar embora aqui não pode mandar embora aqui tem que obedecer tem que receber o oeste vai acontecer serão de jogo seu filho não de jogo pra tua filha tudo que ele quer faz tudo que é besteira faz nesse mundo que nós estamos com a filha chega três quatro horas da manhã uma menina solteira e não tá nem aí onde é que essa garota tá liberais podem fazer o que querem poder onde quer e não deu satisfação de nada fazem o que querem e vão de carrie andam aonde querem liberais pode tudo faz tudo fique à vontade liberar achei não não não vai ou não vai aí sabe que acontece irmão se você não colocar limites quando a criança aí depois quando é grande você nunca disse não ele nunca entendeu que a sua figura é uma figura que tem que ser respeitada aí quando cresce que é dar a tua cara e dá e da batata é quando ele tinha quatro anos de idade quando ele tinha cinco anos de idade quando ele tinha oito anos de idade meu garoto é maior do que eu é mais forte do que eu de vez em quando ele brinca comigo me dá a braçada que eu não saio não saio o moleque de 18 anos que é forte ou sai agora meu amigo se eu disser pra ele vem cá ele vai lhe eu te garanto que ele vai vir se eu falar que lipsky negócio é meu chapa ele vai baixar a cabeça me respeitar porque é que ele aprendeu isso desde que era pequeno ele aprendeu limites liberal não permite nada o garoto chama o pai de o joão o joão o nome do pai joão gil joão a vírgula papai senhor é cafona na modernidade de hoje na modern touch de hoje temos que ter um tratamento de você isso trata assim ele não ter referencial dessa forma eu já contei aqui um dia chegou uma irmã no cu de quinta-feira está na fila para falar comigo na igreja passa meia hora para falar comigo aí quando ela chega com os olhos cheio de lágrimas que o moleque desse tamanho aqui de uns 45 anos de idade por aí sim [Aplausos] eu procurei qual era o que ela não agüentava eu disse assim esse aí moleque é excelente rabo de olho lá dentro dele estava dizendo assim não me aguenta mesmo né isso dá corda o teu filho isso mesmo faz isso pensando que a criança não está percebendo eu fico vendas mantendo esse menino não é fácil ninguém aguenta com ele isso alimenta seu filho assunto vai você vai ver onde é que você vai parar aí eu disse como é que é irmã um filho e de e o de si na cara dele um pirralho de si ea irmã em dizer que não aguenta com ele eu abaixei e se um pouco assim aguenta assim olhando bem do joelho dele quer deixar ele lá em casa há 15 dias ele vai voltar uma benção pianíssimo que negócio é esse que não aguenta ficar dando corda pra moleque agora existe uma outra característica de pai eu espero que todos nós possamos ser os pais sábios o pai sábio é aquele que teme ao senhor o pai sábio é aquele que ensina a criança no caminho que deve andar pra quando ela se envelhecer não se desviar dela o pai sábio é aquele que transmite a afetividade amor carinho e amizade o pai sábio é aquele que sabe o que é melhor para o seu filho é aquele que sabe dizer não na hora que é pra dizer não e sabe dizer se na hora que é pra dizer sim o pai sábio é aquele que da reprimenda é aquele que vê recrimina é aquele que chama atenção mas é aquele que elogia é aquele que fala coisa boa na hora certa o pai sábio é aquele que sentar com o seu filho com a palavra de deus aberta é aquele que faz um culto doméstico na sua casa é aquele que ensina minho o filho caminho da verdade o caminho de deus o pai sabe é aquele que sabe da sua responsabilidade com aquela criança e que sabe que a vida dele pode ser um instrumento de bênção para o futuro daquele filho cv o pastor silas pastor você vê o pastor silva e citando a bíblia densa que o que eu tenho uma dotação modo que você não sabe o que é isso é porque desde 56 anos de idade meu pai sentava comigo li a bíblia falava para mim repetiu os versículos minha mãe sentada na cama à noite meu pai era vice reitor do seminário eu do lado direito e minha irmã que é a mais nova do que eu do lado esquerdo e minha mãe lia a bíblia e ela ia contar as histórias da bíblia pedia pra mim repetir meu pai fazia culto do méxico de vez em quando ficava invocado com aquele condomínio em que cuidam do mr quero jogar bola mas para jogar bola vem cá meu chapa senta aqui na mesa na época ficava evocá disso é o problema dos pais de hoje os pais de hoje quero que as crianças fiquem satisfeitas com as atitudes dela não meu filho tem que ficar contente comigo quente disse que a criança tem a capacidade de escolher todas as coisas certas quem te falou meu pai é meu chapa aquilo cuba méxico ficando invocado mas já graças a deus pai pelo culto doméstico graças a deus que você a mãe se estavam comigo para me ensinar a bíblia e porque desde os seis anos eu comecei a lei aguardar os textos da bíblia e tudo aquilo que a gente aprende como criança a gente desenvolve uma capacidade maior eu comecei a guardar textos da bíblia diz que eu tenho seis anos de idade por causa do meu pai da minha mãe graças a deus por isso graças a deus pelo caminho e graças a deus foi um exemplo de homem de mulher de vida de pessoas de gente você já sabe o meu irmão cuidado com o que você fala cuidado com as suas decisões meu filho tá reparando ele está olhando ele está vendo você não passa uma idéia de perfeccionista de pai e mãe que nunca erra essa é uma ideia errada o país chave é aquele que também de israel e e eu não devia ter falado que vocês me perdoe meu filho eu exagerei aqui você está certo isso não custa nada e se é o pai sábio é isso que nós estamos precisando não precisam de superman para mostrar às crianças alguma coisa extraordinária e nós estamos precisando de pais que estejam submetidos a palavra de deus e que usem a sabedoria que deus te deu pra conduzir a sua família em triunfo o que deus abençoe os pais e irmãos a família grave isso é a família que transfere uma herança cultural biológica psicológica e espiritual a família ela pode construir uma pessoa de formada uma pessoa estável a estabilidade o caráter de uma pessoa é a família é a principal agência socializadora é uma triste social o meu irmão não perca seu filho não perca a sua filha e não perca a sua família ou queridos queridos ator não atua maneira que você trata sua mulher o teu filho te olhando a tua filha tá vendo a maneira que você trata o teu marido a filha tá vendo você encontra muitas vezes filhos matando nossas esposas porque viu o pai tratar mal a sua mãe você vê filhas tratando mal marido porque viu a sua mãe tratar mal o seu pai você é exemplo a maneira que você fala com o teu marido a maneira que você fala com ela não precisa disfarçar não precisa se aquela coisa melosa que você tem dúvida oi queridinho meu pombinho meu amorzinho sim queridinha sim amorzinho do meu coração todas essas aí tem sabe esse negócio assim nervoso de toda hora de todo minuto claro que quando você diz o meu doce ou minha flor taxa coisa espontânea mas aquela coisa repetitiva chata sabe te tratar não disfarça não o pau tá quebrando lá na lá no quarto e aí que a passar uma imagem mentirosa depois que os filhos crescem um pouco e que a criança já sabe que a criança até 12 anos pensa que o mundo é uma fantasia que papai e mamãe seus super heróis porque o adolescente fica rebelde muitas vezes porque ele descobre que o pai ea mãe nem geral pra ele durante a vida aquele relacionamento era mentiroso seja sábio não escondo nada da tua família converse bate papo de rogue passa a mão no cabelo da tua filha faz um carinho nela abraça teu filho dica pro teu filho conta comigo meu pai aqui pra ajudar diga pra tua filha minha filha conte comigo ai mãos com os pais eu me lembro que minha irmã uma das minhas irmãs era noiva o camarada desmanchou noivado pelo telefone não foi nem o nome de lá pode manchar de lanchou pelo telefone minha irmã que o enxoval e minha irmã eu tava em casa eu nunca vou me esquecer isso eu tinha 12 13 anos minha irmã pegou uma tesoura entrou no quarto numa uma coisa alucinada de raiva e de choque foi puxando as coisas e querendo rasgar tudo aos gritos foi um da guarda 26 mãe veio pegou ela achou a minha filha de deus tem melhor pra você você pode estar sofrendo agora mas deus tem o melhor pra você você vai se casar de maneira melhor é deus que está equilibrando não estava profetizando para minha irmã sabe que aconteceu minha irmã casou com um moço de deus que é ministro do evangelho que é pastor que é um homem honesto sincero amoroso agora você vê a filha quem mandou o torcedor vai desse safado bem feito pra você não pega ela profetiza sobre ela profetiza sobre seu filho a tua palavra tem poder a tua palavra tem autoridade para abençoar eu podia falar tanta coisa de paz mas chegou a nossa vez rapaziada o tempo me diz que agora eu tenho que falar para os jogos ea jovem tem outros tipos de pais por aí vou ficar nesse mas eu quero falar para os jovens jovem você pode incluir os adolescentes jovem é sinônimo de lerdo são lerdo e responsável não sabe o que quer isso aí é o que o mundo dê mas essas características elas não são para um jovem que permeia a deus eu vou mostrar pra você mochi moça o que a bíblia me diz sobre os jovens eu escolhi aqui cinco características dos jovens na bíblia que contradiz tudo isso que a sociedade diz a respeito de vocês a primeira característica do jovem na bíblia o jovem tem sonhos de deus sabia que o jovem intenções de deus josé qualidade dele 15 anos que ele sonhou ele sonhou acerca do futuro dele e da família dele aquele sonho irmãos aquele sonho de josé com 15 anos fez com que ele vencesse coisas terríveis vendido pelos irmãos traído na casa de potim fa 13 anos na cadeia ele tinha um sonho moço moça sei que aqui na igreja você que está me vendo pela tv bastou eu não sei que eu vou querer ser na vida ainda não sei sinceramente eu não sei eu não sei o que você começa a dizer senhor me dê sonhos teus eu quero sonhos de deus para a minha vida é de fato tão indeciso de fato não sei o que que o que eu posso ser fala que o teu deus que o teu deus vai te dar um sonho o teu deus vai te mostrar porque deus está interessado no teu futuro sabe uma outra característica do moço que eu vejo na bíblia que ele é trabalhador hahahha não há hipótese é brincadeira pedi a garota para fazer as coisas é melhor nem fazer deixar tudo andré cadu não mostra trabalhador na bíblia davi primeira samuel 16 era o mais moço mais novo 15 anos de idade os seus irmão estava em casa e davi estava cuidando de ovelha responsável os irmãos todos em casa ele já estava lá porque o serviço não tinha terminado o shea trabalhador irmã eu fico bobo de ver muitas vezes o pai tá doente encostado no inps a mãe dificuldade que tem que tratar o filho o dinheiro está apertado aí tem um arranjo de um moleque de 17 18 anos de casa sem fazer nada bota esse cara pra arrumar um trabalho no mata não ai meu filhinho tatin king trabalhar com s tad conta tinha dele ele poder valorizar a vida já que o shopping pode correr atrás pode sim passar aqui vai ser o office boy que vira meu irmão que não vai ter maioria não fica uns cara marmanjos moleque marmanjo que a situação financeira apertada devem moleque a mãe coitada sinto um garoto está tudo foto ganhou e me dá um dinheiro aí morre por aí vai tomar vergonha nessa cara bota e se une para trabalhar davi era o mais moço era trabalhador terceira característica que eu vejo do moço na bíblia tem ouvido da vida da igreja irmãos essa mocidade é assim mesmo um dia tá na igreja e outro dia no mundo crente raimundo né é mas se há coisa de novo né é esse você é moço não tem assim ainda está naquela fase né o que eu mostro na bíblia é cheio do espírito santo como foi dhabi quando o óleo foi derramado sobre a cabeça de david sabia que o espírito do senhor se aproximou dele nós e moça o senhor que atinge em cheio o seu espírito você é cheio do espírito santo para fazer a diferença nessa geração corrupta e corrompida e sabe que eu vejo que o moço é o moço tem visão de deus rapaz davi viu que ninguém viu você pensa que o moço não tem visão de deus é um bobão é um mané é esse eco negativo mostra uma ele tem uma visão aguçada de deus lembra daquele texto que nós conhecemos de primeira samuel 17 da do desafio de golias que durante 40 dias desafiou as companhias de israel para que mandasse um capítulo 11 um guerreiro para lutar com ele de manhã e de tarde ele debochou o pior no versículo 24 de primeira samuel 17 diz assim que quando os homens de israel viam golias fugiam da sua fácil aí no versículo 26 chegada vive aquele alvoroço todo o arraial foi levar merenda para seus irmãos era um garoto de 15 e 16 anos se o que está acontecendo aí rapaz tem um cara de três metros de altura com uma couraça de 70 quilos com uma lança de uns 20 quilos na mão rapaz o cara tá 40 desafiando e não tem jeito o tamanho de uma mão dele o braço dele a força dele olha e sabe que o rei prometeu o rei prometeu da filha isentar de imposto de renda e ss e ce ms pode vê-la e jantar a família de todos os impostos está lá na bíblia e ainda vai da riqueza mas que adianta da riqueza é um homem que está lá no versículo 24 diz que os homens fugiam no versículo 26 aqui é o seguinte olha o que davi viu olha visão espiritual de davi que ninguém teve quem é o camarada é aquele lá davids assim aqui tal segredo da história aqui eles assim quem é este um se com um siso para afrontar o exército do deus vivo que a greve estava falando ali a circuncisão era o pacto de deus com israel o pacto aliança de deus com israel era circuncisão certo que deve olhar diz assim esse cara não tem pacto com deus esse cara não tem amparo de deus eu tenho tá perdido ele ele viu que ninguém viu ea garota gente almoço deus que te dá visões e espirituais e sabe que eu vejo na bíblia que o moço tem propósito e é determinado negócio de moça é maria-vai-com-as-outras lá fora moço que teme a deus não ele é determinado ele sabe o que ele quer daniel capítulo 1 versículos 8 um caroço de 15 anos a 16 anos de idade que foi levado para se instruir da babilônia que a riqueza iguaria diz lá e daniel assentou no seu coração não sei que contamina ele determinou você pode determinar moço eu não vou me contaminar eu não vou entrar nesse roldão de cocaína de maconha de cigarro de bebida eu não vá determina a posição agora eu quero dar cinco conselhos para os jovens aqui eu podia falar de outras características mas essas cinco aqui são muito importantes para você observar que você pode ser isso que acabei de falar você pode ter sonhos de deus você pode ser cheio do espírito santo você ter visões espirituais que ninguém tem discernimento espiritual que ninguém tem você pode ser um monstro determinado determinado até pra querer ser na igreja tem um rapaz que o pai dele ea mãe do interior do rio grande do sul aquele pessoal que trabalha em fazendas gente pobre humilde mas aquele moço tinha um sonho e eu quero ser o oficial da aeronáutica eu quero ser como não podia fazer cursinho só que ele fazia ele pegava livros lá e cadernos de fazendeiro ladha da cidade ele estava no 2º grau no último ano e ele vendia cachaça numa birosca lá no interior do rio grande do sul e ele começou a ler os livros e tal um camarada que estava acostumado a tomar cachaça lá na hora vaga a garota em cima do livro lendo pesquisando em um camarada que tinha uma certa um certo nível cultural gente da cidade assim você entende tudo isso aí ele falou não tem coisa de matemática de química e física que eu não consigo entender mesmo lendo o que você não souber eu te explico resumindo a história ele é coronel da aeronáutica trabalha com o comandante-geral da aeronáutica em brasília é membro da minha igreja ele determinou emprestou meu pai minha mãe de dizer que você dê que não eu vou lutar eu vou conquistar eu vou embora vou culpar um tempo obama eu vou você pode ver que você quer ser qualquer coisa que deus quiser aí o abacaxi de deus qualquer coisa auxiliado terceiro carimbador tá bom eu quero ser amigo do seu joão ninguém trabalhar com o seu coisa limpa que é isso rapaz sabe que eu fico hoje antes das cinco concelhos eu fico boba que as meninas na igreja hoje querem ser médica e querem ser dentista e querem ser isso eu garanto o time é essa aí né também que está acontecendo rapaziada que negócio é esse aí né tá bom tá aqui conta bom a menina tudo eu tinha vergonha porque isso o homem tem o homem tem que ter brio brio alguém do macho battaglia vou correr atrás eu vou crescer eu peguei uma mensagem dessa sobre jovem em brasília há quatro anos atrás agora no início deste ano foi pregar em brasília o moço me segurou na porta da igreja com os olhos com lágrimas assim pastor lembra aquela mensagem que o senhor falou vai vender picolé vai vender laranja na feira vai ser alguém vai correr atrás bastou era um garoto só dava problema para minha mãe para o meu pai o senhor falou você quer ser o que na vida que você está construindo para sua vida aquela palavra disse o show tem sido até vergonha do meu pai a mãe ou se alguém eu vou seguir o conselho do pastor fui no atacado e comprei irmão não comprei laranja e fiz uma banquinha de vender limão eu disse agora eu vou estudar tinha abandonado a escola sintetizando ele falou pastor eu fiz prova pra polícia civil eu sou detetive da polícia civil e tô casado isso alguém que coisa linda porque você não pode ser só você determinar lutar também é determinar e ficar na rede sem eu já determinei mandou anjo eu já determinei toda a rede mandou anjo andar um anjo com aquela espada de fogo que eu falo 5 conselho para os jovens sim eu vou terminar a mensagem número 1 o próprio texto voz filhos sejam ambientes a vossos pais no senhor porque está justo honra teu pai e tua mãe que é o primeiro mandamento com promessa de seu pai onde seu pai e sua mãe pode ser uma lavadeira seu pai pode ser um semianalfabeto mas é teu pai e tua mãe se você está no mundo por causa dele o respeite o ame o ou r se você quiser vida prolongada nessa terra segundo o conselho que eu dou para os jovens o salmo 119 versículo 9/11 como purificar ao jovem o seu caminho segundo o filme pornográfico da tv a cabo não não segundo acho os home page eróticos da internet as amizades entre internautas com palavras chulas é isso que vai purificar não é novela das oito como purificar ao jovem o seu caminho observando o segundo a tua palavra esconde a tua palavra no meu coração para não pecar contra tido moço se você quer ter uma vida limpa se você não quiser ser contaminado ame a palavra de deus o terceiro concelho que eu quero dá aí eu tenho no terceiro conselho uma palavra para os meninos e uma palavra jasmim mas no terceiro conselho na vila belmiro sabe qual é o primeiro com cheio de davi para seu filho salomão em primeira rede capítulo 2 o meu filho seja espiritual o meu filho ora bastante não foi não sabe que foi o primeiro conselhos e homem sabe o que é ser homem é porque você tem a genitália masculina não homem é aquele que toma a decisão é aquele que assume é aquele que é responsável a rede homem responsável for por aí que não assume nada esse é um homem você vai casar com a menina talvez ela tenha tudo do pai você está começando a vida vai dizer pra nós aqui minha coleguinha você quer casar comigo olha eu não tenho nada agora para te oferecer assim de bacana como tem na casa do teu pai mas que está casando com o homem e nós vamos construir a vida e nós vamos conquistar eu disse isso pra minha esposa que eu casei com 21 anos era um zé mané sem nada fui morar num apartamento que o tombamento histórico passa vai tomar o prédio de tão velho que era eu casei não pude nem comprar um móvel de sala comprei imóvel de quarto geladeira é fogão mas nem sala eu tinha mais onde espera você está casando com o homem e eu vou conquistar porque deus está comigo deus me ajudar e nós vamos conquistar esse homem é aquele que conquistar é aquele que realiza é aquele que toma a frente nesse estreitam que fique escorado em mulher não graças a deus para a minha mulher tem um grande emprego eu tô aqui lavando fralda glória a deus aleluia como é que deus é maravilhoso é pastor ea mulher pomar mulher deseja plátano empregas u eu fico aqui sai fora eu não pode ser que você não pode lavar a fralda não é isso não eu fazendo você não pode lavar panela que isto vai desmerecer você não eu estou dizendo que é você que é o provedor da tua casa você que tem que chamar a responsabilidade você até pode passar um período dependendo da mulher como eu já passei eu já passei mas eu disse à minha filha não vai ficar a vida toda se não porque eu tenho vergonha nessa cara que eu vou correr atrás de deus vai me abençoar o cara fica encostado lá vagabundo possa esse vagabundo para roma e aí o moleque já vem com esta fosse o irmão da garota filha de um papai porto na boa mãe daqui a pouco eu sou empresário sem ter construído nada e sai fora minha filha larga disso que vai pedir esmola a 2 o cara não quer estudar não quer trabalhar é porque não quer ser homem de verdade é só love só para seu ganho mesmo que eu sou fera o pi pa pa manda esse cara embora tenha ouvido de babá nunca nada conseguiam que nada com o trabalho este homem pela metade o conselho para as meninas um provérbio 30/11 mulher virtuosa quem achar a o seu valor é sede aos dos lubis victoza mulher de qualidade mulher prendada agora também tem uma outra coisa vil a bíblia diz que a melhor morar num canto de águas furtadas do que uma mulher bichos a mulheres xhosa e casa com gota em dia de chuva é a mesma coisa e ninguém vive a casa ficava num gueto homem não aguenta com isso na minha filha largar deu do meu pêlo mulher chata implicante rabugenta nojenta seja agradável cinza é melhor morar num canto de águas furtadas do que numa casa ampla como rj tem três vezes isso no livro de provérbios a não dar cabo do eu eu não vou entrar nesse negócio no ano mulher chora coisa bonita que a mulher ela é meiga né da mulher ela ela tem uma sensibilidade que o homem não tem ela tem mais efetividade como não tem se é bonito da mulher é fato picante rabo feita porque a cultura não tem nem comprou a rocha que eu queria porque não comprova que queria eu queria que ele rode não de outro o dia inteiro assim o caixão vai pro inferno e se eu dizer uma coisa aqui em não estou ensinando ninguém a falar isso nem mandar ninguém pra isso eu tô dizendo que o cara não aguenta e acaba falando o que não deve é isso não quer dizer não tô dando desculpa pra quem fala mas meu irmão homem não aguenta esse negócio melhor e aí você também rapaz começa a notar a menina desde novinha já fica arrumando que zuma com você porque você está aqui porque você tá falando em seu colega que era comigo e tem que ter nada a dizer que iria porque você chegou 7 10 hoje não tinha combinado séc e se a goteira seja 6 como gosta disso o rapaz foi estimada gata mulher um doce né 6 a mulher fala eu fico derretido cara de um metro e noventa fica derretido com você vocês são poderosas seu poder o sesi mais queridas mas a mulher religiosa carapã em cima o quarto conselho que eu dou para os jovens e presta atenção que eu vou falar segunda timóteo capítulo 2 versículo 22 paulo diz que o jovem timóteo timóteo foge dos desejos da mocidade segue à justiça a fé o amor ea paz com que os que um coração puro invoca o senhor mochi moça nós estamos vivendo num mundo de promiscuidade em 1999 800 meninas na idade de 10 a 18 anos tiveram um filho se o homem rapaz não é porque você pega qualquer uma e não que isso fosse um monstro crente você tem compromisso com que negócio é esse de querer levar a menina para um motel que negócio é esse que é que está acontecendo que levar para o motel casa antes então tudo é macho não é tão macho então casa que negócio é esse o que está acontecendo na igreja foge a bíblia somando a fugir de uma coisa que é maior do que a gente a bíblia mas a gente fugir da nossa natureza pecaminosa cai fora rapaz você pertence é essa ceará você não tem nada com a senhora dos filisteus a mulher que deus quer te dar o ataque o homem que deus quer te dá aqui no nosso meio envolvimentos perigosos a bíblia diz em segunda coríntios capítulo 6 a partir de 5 14 que sociedade tem a justiça com a injustiça que comunhão tem a luz com as trevas que concórdia a entre cristo e belial que parte tem um fiel com o infiel que consenso tem o templo de deus com o símbolo ce porque vós sois o templo do deus vivente como deus disse neles habitarei e com eles andarei pelo que saí do meio deles a pastar vos e não toquei em nada e mundo então eu vos recebereis eu serei para vós pai e vós sereis para mim filhos e filhas desde o senhor todo poderoso com quem você está se relacionando eu casei virgem e qual o problema não deixei de ser um homem por causa disso e qual o problema porque o homem é aquele que sabe o que quer que história é essa eu tô vendo uma cantiga eu estou preocupado por isso eu tô falando de deus olhe usando pra falar que o que está acontecendo com a juventude na igreja um monte de casal de namorado que têm relações sexuais vocês são candidatos ao inferno ea desgraça para a vida de vocês acontecendo hoje que está acontecendo com os nossos jovens que só querem saber de internet que só querem saber de cinema e que só querem saber de tudo aquilo que os outros aí fora tão sabendo que está acontecendo o que está acontecendo com a gente assim o erro nós não vamos perder nossos filhos nós não vamos perder nossos filhos o diabo não vai levar essa parada nós não vamos perder essa garotada da igreja que está acontecendo no chile moça dentro da igreja na cara de pau com relacionamentos sexuais uma promiscuidade muitas vezes é da igreja que negócio é esse olha meu irmão eu não posso falar coisas aqui olha eu tenho visto moças lindas que tinha um futuro pela frente moças lindas que podiam casar com homens maravilhosos lindos também e construir uma família mas brincaram na hora errada se prostituíram com 15 anos viraram mãe nunca mais acertaram na vida eu tenho aqui eu conheço sua história disso você está brincando você está brincando com que você não pode com que você dá se misturando as suas amigas são quem os seus amigos são quem o rapaz com quem você está andando com cheirador de cocaína já está andando com fumantes de maconha mas não é pra trazer para a igreja não porque se você andar com eles para trazer pra cá ok mas você está andando pra fazer o que eles estão fazendo você foi criado na igreja você tá andando com as suas amigas e as suas amigas estão dizendo pra você e querida você é virgem ah ah ah não sabe o que está perdendo e aí você diz assim pra elas e vocês não sabem o que vocês estão ganhando nunca houve tanta doença venérea nunca houve tanta mãe solteira nunca houve tanta gente morrendo de aids porque promiscuidade promiscuidade nós não temos que copiar esse mundo surge podre não na igreja o rapaz ele ama a moça e vice versa e se preparam para o compromisso do casamento porque foi deus que institui o casamento da família nós não queremos a igreja promíscua uma igreja que os mossos a cabo culto e vão para o inferno e pra boate e passar fadesa que negócio é esse onde é que vamos parar vocês estão brincando com coisa que não se brinca eu fui moço eu fui rapaz tinha também moleza tinha facilidade que a garota também que queria queria ir fundo também tinha tudo isso mas eu tenho compromisso com deus deus tem o melhor pra mim tudo na hora certa é bom tudo na hora certa é o melhor o que está acontecendo o que quer minha filha de guarda espera eu tenho moças na minha igreja não vou citar o nome até por uma questão de ética eu sei que elas me autorizaram citá eu tenho moças da minha igreja que eu vi até piada que se casar até um pouquinho além dos 23 e 24 mar moças de deus fiéis nunca fui namoradeira nunca ninguém ficou se esfregando pra lá e pra cá todo mundo está brigando pra lá e pra cá e depois no tempo certo casaram com homens e excelente com homens excelente a esposa de si que eu citei aqui estou em brasília talvez vendo até o programa ela não casou com 21min com 20 e 25 23 mas casou com um homem um rapaz de deus um moço de posição uma outra na igreja casou com o pastor missionário soube esperar o tempo pela hora já que você é cara em 22 23 anos já é macho então por que tu assumir o casamento já que é macho mas fica perturbando juízo das garotas as meninas fragilizada emocionalmente e fica cantando pra levar pra motel o que é que está acontecendo que deus é esse que você tá servindo você está brincando com deus não se deixa escarnecer meu amigo senão você você está brincando com coisas eu tenho vários colegas eu fui criado na igreja eu falo isso com tristeza não fala com alegria e muitos dos meus colegas de 15 16 17 18 19 anos eu já namorava a sério e muito dele viu na na bagunça na bagunça a humala faz sair fora lá pato está perdendo não sei que sabe que aconteceu eu cacei uma menina de deus eu casei com uma mulher de deus que tem sido uma bênção na minha vida eu sou feliz eu sou um homem realizado vivo bem com a minha esposa e alguns deles estão com a vida toda estragada um dia de segundo um colega meu da escola dominical aspecto sujo rapaz inteligentíssimo eu ele disputávamos um bocado na na classe citar trecho da por mim já está no terceiro casamento a vida todo esculhambado o que é isso levou a vida na igreja de brincadeira e você menina se comporte bem moça na igreja parece até maçaneta todo mundo pega se compõe eu não estou dizendo que você tem que namorar com em casa lá o primeiro é isso não passa na rua ela está agarrada no poste com no dia do passeio está agarrada com o outro no outro dia tudo passa agarrado com o que o negócio já pra namorar um rapaz de 34 mas não deu certo vai namorar você não é obrigado a namorar o primeiro casar mas tem compostura tem decência e deixa mesmo deixa ele pegar tudo aí é isso que ele quer ele vai pegar em tudo pois não tem mais graça nenhuma já viu tudo já pegou em tudo já fez tudo você é descartável joga fora já experimentei já sei como é que ela é com isso cheio dela já está pensando que eu tô aqui de brincadeira que eu vim aqui pra contar uma briga pra você olha a mãe e meu chapa segura ela se não vou soltar a mão no meio da tua força o palhaço o cara é óptima já amanhã aqui na manhã já não vamos devagar com a louça e não fazendo você namora que você não abrace você não beija né e irmão de namoro do crente é de da não deixar de palhaçada também estou falando isso pode abraçar pode beijar e tal essa está conhecendo e tá é normal agora a menina mora um memorável tomará um namoro você vai ficar lá na fila de trás todo mundo aí já são gonçalo enquanto eu também tô fora estou eu tô na igreja não parece um rapaz o cara mais lindo da minha empresa um metro e oitenta olhos verdes 5 músculos assim do senhor zu uma baita do homem adivinhem quem ele botou os olhos a mulherada tá todo em cima dele mas bastou e é claro você entendeu você tem um brilho diferente você tem um comportamento você atrai mesmo minha filha agora só que ele quer só de usar de jogar fora que não tem compromisso com deus é só paixão da carne é para usar jogar fora cuidado cuidado cuidado o moço cuidado moça cuidado vocês têm compromisso com deus foge disso aí sai fora disso aí o nosso crédito é para andar em boate nosso crédito é para da internet em safadeza de internet moço crédito é para ser viciado em filmes eróticos e pornográficos o nosso cliente a plantarem o hotel colina nenhuma não que negócio é esse se preserve você tem pecado que enxerga a tua vida com deus porque deus não se deixa escarnecer em último lugar para encerrar a bíblia dizem primeira coríntios capítulo 7 de 5 32 em diante para os jovens em último conselho o casado cuida tem como agradar a esposa mas o solteirão como agradar ao senhor a casada cuida em co agradar o esposo e achou terem como agradar o senhor sabe que ele está dizendo enquanto você é jovem você tem toda a prioridade da igreja você pode fazer um monte de coisa na igreja eu tô vendo os moços não querendo nada na igreja depois que você casa aí tem mulher tem filhos aí você não é porque você não vai mais para a igreja mas você tem outras prioridades também mas olha rapaz quando eu era garoto e moça na igreja rapaz eu fiz tanta coisa é um coisa linda eu evangelizar e e eu combinava a gente ia pra casa de um tio um salgadinho de um bate-papo mach oração sabe é uma amizade consistente a gente evangelizar vá os moços da igreja muitos deles no evangelismo ninguém tão mal testemunho na escola não venha tudo só chega atrasado na igreja as coisas de deus não caçam priorizados depois que casa piora aproveita enquanto você amou simoso evangelize participe dos projetos da igreja que você não vai poder se dedicar o tempo todo que vem é isso que paulo está dizendo mas eu queria fazer uma oração aqui nesse lugar você está perto da sua esposa você tá perto do meu filho irmãos nós não vamos perder a nossa família o diabo não vai arrancar nossa família o diabo não vai destruir o futuro dos nossos filhos eu queria morar com a igreja eu gostaria que a igreja ficasse de pé meu marido da esposa o teu filho tá perto está perto meu pai está um pouco distante de você vai pra onde ele está se está perto abraça e faz aí uma junta aí junta junta passa a mão sobre o ombro dele dela do filho da filha e isso faça o pai da onde sai do banco junto aí onde está o teu pai e tua mãe você está em casa chama seu filho acorda meu filho está dormindo e acorda você está vendo essa fita chama tua mulher junto a vocês aí junto você não tá aí chamado recorda eu quero deixar você pra você abre um só a sua família quero te abençoe chama pessoal e junto nós vamos chorar irmãos e eu não quero passar para vocês uma imagem de homem perfeito minha casa irmãos olha nunca tive problema nenhum nunca discutiu com minha mulher e meus filhos nunca fizeram nada errado não vim aqui passar mentira pra ninguém mas já tem tempo você está vivo você pode acertar vamos mudar a história da nossa casa como da história da nossa família vou melhorar eu tenha errado eu tenha vacilado mas eu vou melhorar não fica com remorso aí puxa vida postou eu tô aqui agora cheio de remorso vou ficar até complexo porque eu perdi tanta coisa ou não esquecendo das coisas que para trás ficam e avançando para as que estão diante de mim começa hoje começa agora nós vamos orar você vai lá pela sua família você vai ter que ceder por ela chamou o pessoal aí na tua casa reúnem na sala olhe fale com deus a respeito da sua família fala com deus a respeito dos teus desejos e projetos fala com deus meu filho está perdido meu filho não está em casa não está aqui tá longe e fala com deus teremos o diabo não vai levar meu filho ele não vai ganhar essa parada o diabo não vai destruir a minha casa porque eu sou serra observa do deus altíssimo e o senhor é maior do que qualquer coisa vamos orar depois dessa oração primeiro você vai interceder severa pela sua mulher vai lá pelo seu marido vai orar pelos seus filhos pelos seus pais você vai por aí e depois que você chorar eu vou pedir pra você profetizar declarar meu filho perto de você quando acabar a oração foi a mão na cabeça dele meu filho ea filha os atuais palavras eu só tô aqui dando aqui uma sinalização mas põe a mão na cabeça do teu filho da tua filha em casa meu filho minha filha você juntos e bênção de deus tem um futuro pra você e ele ou seja vão casar com pessoas de bem e lentes a deus vai abençoar você vai abençoar a mulher ea esposa você vai ser bênção cada vez mais pra mim o diabo não vai nos separar nem vai destruir a nossa casa depois filho profetiza pro teu pai foi a mão no meu pai no ombro na cabeça dele com o problema pai deus vai dar o pão pra nosso lá deus vai te dá a possibilidade para que o senhor possamos criar vai abençoar teu pai e tua mãe profetizar sobre eles eu quero olhar por você ora se está sozinho aqui e pela sua família também tô aqui agora minha esposa meus filhos estão no rio de janeiro eu também estou aqui sozinho mas eu vou orar por eles comece a dourar começa a interceder eu primeiro vou te abençoar depois eu também vou orar pela minha família fala com deus olha aí eu falei vou usar o ar e de cadu senhor eu quero abençoar as famílias da tua casa a família brasileira como o diabo tem tentado destruir as drogas tem sido uma praga do inferno pra perturbar a paz e para destruir filhos a deus tem misericórdia senhor das famílias o deus não permita a satanás cirandar com a família do teu povo do teu servo da tua serva do senhor guarda cada família que conduz ao futuro desses meninos e dessas meninas que os nossos filhos sejam gente de bem sejam bênção o meu deus o meu senhor mas abençoamos nessa hora nós abençoamos todas as famílias nós profetizamos a bênção pra tua casa seus filhos vão ser a árvores frutíferas junto ao teu lado a tua esposa será virtuosa você é um homem de verdade abençoador eu profetizo pra tua casa a bênção de deus a proteção de deus o livramento do senhor a deus para a minha esposa guarda meus filhos a minha casa sempre será uma benção os meus filhos serão bem vençam juntamente comigo e com a minha esposa a deus eu profetizo sobre a vida da minha família o diabo não vai rodar pata dele na minha casa porque ele tá repreendido o meu lá em nome do senhor jesus o deus escuta oração desse lugar escuta o clamor desse lugar nessa hora pai fraga filho de volta traga marido de volta a atacar a mulher de volta restaura casamento restaurar a famílias estão na filha liberta o que era deus chama marcar abaixo eu te peço a deus eu te agradeço porque nessa noite satanás está sendo derrotado mais uma vez a família vai sair vitoriosa daqui em nome do senhor jesus eu te abençoe em nome de jesus amém profetiza e para a família fala aí falei pai fala a mãe fala para o filho ouve e fala pra tua mulher ouve e fala para a esposa ouviu falar pra ele disse uma palavra para chegar até aí tinha alguma coisa para ele meu filho você vai ser uma benção você vai ser um homem de verdade o ataque comigo meu filho fala pra tua vida talita thaísa silas hoje vão ser uma bênção e as filhas deus tem o homem certos e sério pra vocês meu filho eu tenho um caminho para a sua vida para você ser um homem de verdade ele 7 você uma esposa amada você vai ser continuar se uma benção profetiza aí pra tua família diga isso não teve vergonha não abriu a sua boca o diabo tá sendo chipado da tua casa quebrada as correntes do inimigo alemãos eu declaro aqui pela fé e pelo espírito do senhor deus está trabalhando em muitas casas agora em muitas famílias aqui satanás da sendo repreendido o laço do diabo contra o del filho está sendo tirado o zagueiro william aleluia e glória de luxo aleluia aleluia e glória a deus uma vitória de deus aqui esta noite a uma vitória de deus aqui meu irmão uma vitória de deus eu profetizo pra tua vida a uma vitória de deus uma vitória pra tua casa uma vitória para os meus filhos é uma vitória para o seu casamento em nome do senhor jesus valeu glória a deus agradeço a deus pela sua família agradeço a deus pelo teu pai e tua mãe agradeço a deus pelo teu esposo e pela sua esposa agradeço a deus por isso meu o graça chegou pela família que teme dar graças graças graças graça chegou o senhor deus te abençoe meu irmão deus abençoe a tua casa que nunca falte óleo sobre a tua cabeça que o senhor ocupa o primeiro lugar da tua casa com a tua família que deus seja a prioridade da tua casa moços e moças e fiel ao senhor traga sua família para a igreja tem com eles para a igreja paga eles pra cá ora com eles leia a bíblia com eles não vamos perder essa batalha nós não vamos perder essa batalha essa vitória é nossa essa vitória nós\n"
     ]
    }
   ],
   "source": [
    "inspected_row = 738\n",
    "print('text:' + df_tweets_filtered.loc[inspected_row, 'text'])"
   ]
  },
  {
   "cell_type": "code",
   "execution_count": 14,
   "id": "417965ca-4fc5-4b02-b03b-56b4ff204aaf",
   "metadata": {},
   "outputs": [],
   "source": [
    "# Define the list of indexes to drop\n",
    "indexes_to_drop = [\n",
    "    738\n",
    "]\n",
    "\n",
    "# Dropping the rows with the specified indexes\n",
    "df_tweets_filtered = df_tweets_filtered.drop(indexes_to_drop)\n",
    "df_tweets_filtered = df_tweets_filtered.reset_index(drop=True)"
   ]
  },
  {
   "cell_type": "code",
   "execution_count": 15,
   "id": "43f998f3-6582-4b4d-8bfe-3e46be722878",
   "metadata": {},
   "outputs": [
    {
     "data": {
      "text/html": [
       "<div>\n",
       "<style scoped>\n",
       "    .dataframe tbody tr th:only-of-type {\n",
       "        vertical-align: middle;\n",
       "    }\n",
       "\n",
       "    .dataframe tbody tr th {\n",
       "        vertical-align: top;\n",
       "    }\n",
       "\n",
       "    .dataframe thead th {\n",
       "        text-align: right;\n",
       "    }\n",
       "</style>\n",
       "<table border=\"1\" class=\"dataframe\">\n",
       "  <thead>\n",
       "    <tr style=\"text-align: right;\">\n",
       "      <th></th>\n",
       "      <th>text</th>\n",
       "      <th>filepath</th>\n",
       "    </tr>\n",
       "  </thead>\n",
       "  <tbody>\n",
       "    <tr>\n",
       "      <th>0</th>\n",
       "      <td>e a Bíblia é a verdade absoluta é a palavra de...</td>\n",
       "      <td>cl_st1_guilherme-dataset-output/MALAFAIA RESPO...</td>\n",
       "    </tr>\n",
       "    <tr>\n",
       "      <th>1</th>\n",
       "      <td>e eu não vou me calar por uma série de coisas ...</td>\n",
       "      <td>cl_st1_guilherme-dataset-output/MALAFAIA RESPO...</td>\n",
       "    </tr>\n",
       "    <tr>\n",
       "      <th>2</th>\n",
       "      <td>eu vou dizer uma coisa para você que ele faz e...</td>\n",
       "      <td>cl_st1_guilherme-dataset-output/MALAFAIA RESPO...</td>\n",
       "    </tr>\n",
       "    <tr>\n",
       "      <th>3</th>\n",
       "      <td>e decida salvar seu casamento sabe por quê Por...</td>\n",
       "      <td>cl_st1_guilherme-dataset-output/MALAFAIA RESPO...</td>\n",
       "    </tr>\n",
       "    <tr>\n",
       "      <th>4</th>\n",
       "      <td>e você vai ter que lutar para receber as prome...</td>\n",
       "      <td>cl_st1_guilherme-dataset-output/MOTIVACIONAL P...</td>\n",
       "    </tr>\n",
       "  </tbody>\n",
       "</table>\n",
       "</div>"
      ],
      "text/plain": [
       "                                                text  \\\n",
       "0  e a Bíblia é a verdade absoluta é a palavra de...   \n",
       "1  e eu não vou me calar por uma série de coisas ...   \n",
       "2  eu vou dizer uma coisa para você que ele faz e...   \n",
       "3  e decida salvar seu casamento sabe por quê Por...   \n",
       "4  e você vai ter que lutar para receber as prome...   \n",
       "\n",
       "                                            filepath  \n",
       "0  cl_st1_guilherme-dataset-output/MALAFAIA RESPO...  \n",
       "1  cl_st1_guilherme-dataset-output/MALAFAIA RESPO...  \n",
       "2  cl_st1_guilherme-dataset-output/MALAFAIA RESPO...  \n",
       "3  cl_st1_guilherme-dataset-output/MALAFAIA RESPO...  \n",
       "4  cl_st1_guilherme-dataset-output/MOTIVACIONAL P...  "
      ]
     },
     "execution_count": 15,
     "metadata": {},
     "output_type": "execute_result"
    }
   ],
   "source": [
    "df_tweets_filtered.head(5)"
   ]
  },
  {
   "cell_type": "code",
   "execution_count": 16,
   "id": "e7fc1c49-1884-4650-a159-b9b3f3f842cc",
   "metadata": {},
   "outputs": [
    {
     "data": {
      "text/plain": [
       "(1810, 2)"
      ]
     },
     "execution_count": 16,
     "metadata": {},
     "output_type": "execute_result"
    }
   ],
   "source": [
    "df_tweets_filtered.shape"
   ]
  },
  {
   "cell_type": "code",
   "execution_count": 17,
   "id": "95f73199-776b-4d85-8ecd-2673b634f5c3",
   "metadata": {},
   "outputs": [
    {
     "data": {
      "text/plain": [
       "text        object\n",
       "filepath    object\n",
       "dtype: object"
      ]
     },
     "execution_count": 17,
     "metadata": {},
     "output_type": "execute_result"
    }
   ],
   "source": [
    "df_tweets_filtered.dtypes"
   ]
  },
  {
   "cell_type": "markdown",
   "id": "e743b0db-02a0-4e0b-b0b5-d6659960bc30",
   "metadata": {},
   "source": [
    "## Replacing the `pipe` character by the `-` character in the `text` column"
   ]
  },
  {
   "cell_type": "markdown",
   "id": "bc943030-7448-4d4d-98b8-b03c40e113e2",
   "metadata": {},
   "source": [
    "Further on, a few columns of the dataframe are going to be exported into the file `tweets.txt` whose columns need to be delimited by the `pipe` character. Therefore, it is recommended that any occurrences of the `pipe` character in the `text` column are replaced by another character."
   ]
  },
  {
   "cell_type": "code",
   "execution_count": 18,
   "id": "ab1c3584-ae80-41fc-b03a-4286a564a798",
   "metadata": {},
   "outputs": [],
   "source": [
    "# Defining a function to replace the 'pipe' character by the '-' character\n",
    "def replace_pipe_with_hyphen(input_string):\n",
    "    modified_string = re.sub(r'\\|', '-', input_string)\n",
    "    return modified_string\n",
    "\n",
    "# Replacing the 'pipe' character by the '-' character\n",
    "df_tweets_filtered['text'] = df_tweets_filtered['text'].apply(replace_pipe_with_hyphen)"
   ]
  },
  {
   "cell_type": "markdown",
   "id": "5a3d28f3-7d63-4c02-ba55-0dbc957a4291",
   "metadata": {},
   "source": [
    "#### Exporting the filtered data into a file for inspection"
   ]
  },
  {
   "cell_type": "code",
   "execution_count": 19,
   "id": "9bed48e1-c6f3-49af-966b-bdb81183d605",
   "metadata": {},
   "outputs": [],
   "source": [
    "df_tweets_filtered[['text']].to_csv('tweets_emojified1.tsv', sep='\\t', index=False, encoding='utf-8', lineterminator='\\n')"
   ]
  },
  {
   "cell_type": "markdown",
   "id": "776d4ca4-2999-47d3-ae97-b4f3a7599d84",
   "metadata": {},
   "source": [
    "## Tokenising"
   ]
  },
  {
   "cell_type": "markdown",
   "id": "1f950bc7-9ffa-4d96-9ce0-439643f90a55",
   "metadata": {},
   "source": [
    "Please refer to [What is tokenization in NLP?](https://www.analyticsvidhya.com/blog/2020/05/what-is-tokenization-nlp/)."
   ]
  },
  {
   "cell_type": "code",
   "execution_count": 20,
   "id": "9c1d393e-e85d-48f8-93f2-d7dfec6a2062",
   "metadata": {},
   "outputs": [],
   "source": [
    "# Defining a function to tokenise a string\n",
    "def tokenise_string(input_line):\n",
    "    # Replace URLs with placeholders\n",
    "    url_pattern = r'http[s]?://(?:[a-zA-Z]|[0-9]|[$-_@.&+]|[!*\\\\(\\\\),]|(?:%[0-9a-fA-F][0-9a-fA-F]))+\\b'\n",
    "    placeholder = '<URL>'  # Choose a unique placeholder\n",
    "    urls = re.findall(url_pattern, input_line)\n",
    "    tokenised_line = re.sub(url_pattern, placeholder, input_line)  # Replace URLs with placeholders\n",
    "    \n",
    "    # Replace curly quotes with straight ones\n",
    "    tokenised_line = tokenised_line.replace('“', '\"').replace('”', '\"').replace(\"‘\", \"'\").replace(\"’\", \"'\")\n",
    "    # Separate common punctuation marks with spaces\n",
    "    tokenised_line = re.sub(r'([.\\!?,\"\\'/()])', r' \\1 ', tokenised_line)\n",
    "    # Add a space before '#'\n",
    "    tokenised_line = re.sub(r'(?<!\\s)#', r' #', tokenised_line)  # Add a space before '#' if it is not already preceded by one\n",
    "    # Reduce extra spaces by a single space\n",
    "    tokenised_line = re.sub(r'\\s+', ' ', tokenised_line)\n",
    "    \n",
    "    # Replace the placeholders with the respective URLs\n",
    "    for url in urls:\n",
    "        tokenised_line = tokenised_line.replace(placeholder, url, 1)\n",
    "    \n",
    "    return tokenised_line\n",
    "\n",
    "# Tokenising the strings\n",
    "df_tweets_filtered['text'] = df_tweets_filtered['text'].apply(tokenise_string)"
   ]
  },
  {
   "cell_type": "markdown",
   "id": "d523fd73-2c9c-4481-92cc-290de7dd57c6",
   "metadata": {},
   "source": [
    "## Creating the files `file_index.txt` and `tweets.txt`"
   ]
  },
  {
   "cell_type": "markdown",
   "id": "1368c6b3-5650-4a79-971b-bde873615a39",
   "metadata": {},
   "source": [
    "### Creating column `text_id`"
   ]
  },
  {
   "cell_type": "code",
   "execution_count": 21,
   "id": "55c76a37-1702-4c6c-83ac-9bef08c6b849",
   "metadata": {},
   "outputs": [],
   "source": [
    "df_tweets_filtered['text_id'] = 't' + df_tweets_filtered.index.astype(str).str.zfill(6)"
   ]
  },
  {
   "cell_type": "markdown",
   "id": "fa282811-780f-4ab6-8eff-3e084d001827",
   "metadata": {},
   "source": [
    "### Creating column `conversation`"
   ]
  },
  {
   "cell_type": "code",
   "execution_count": 22,
   "id": "5ae013ab-6d27-41dc-83c9-6a289221c82b",
   "metadata": {},
   "outputs": [],
   "source": [
    "df_tweets_filtered['conversation'] = 'v:' + df_tweets_filtered['filepath']"
   ]
  },
  {
   "cell_type": "markdown",
   "id": "f46105d2-d49d-44a7-a681-0749d5c69bfb",
   "metadata": {},
   "source": [
    "#### Replacing space by the `_` character"
   ]
  },
  {
   "cell_type": "markdown",
   "id": "15aaa0ca-b8b0-4270-add3-939091f3a499",
   "metadata": {},
   "source": [
    "**Important**: Since the strings in the original columns contain spaces, Pandas creates `file_index.txt` with the columns enclosed with `\"` - this caracter causes issues in `examples.sh` when it is executed. Therefore, spaces should be replaced by another character such as underscore."
   ]
  },
  {
   "cell_type": "code",
   "execution_count": 23,
   "id": "b1738396-c2fa-4662-987e-4a2fcb4b8687",
   "metadata": {},
   "outputs": [],
   "source": [
    "# Defining a function to replace space by the '_' character\n",
    "def replace_space_with_underscore(input_string):\n",
    "    modified_string = re.sub(r' ', '_', input_string)\n",
    "    return modified_string"
   ]
  },
  {
   "cell_type": "code",
   "execution_count": 24,
   "id": "3fb89544-e8bf-4ac3-8b36-8af282da5ca3",
   "metadata": {},
   "outputs": [],
   "source": [
    "# Replacing space by the '_' character\n",
    "df_tweets_filtered['conversation'] = df_tweets_filtered['conversation'].apply(replace_space_with_underscore)"
   ]
  },
  {
   "cell_type": "markdown",
   "id": "28b5bafa-10e7-4153-8e7a-7fe04b2c4b0a",
   "metadata": {},
   "source": [
    "### Creating column `date`"
   ]
  },
  {
   "cell_type": "markdown",
   "id": "c04c6012-9522-4f18-a53d-c6f917eec84b",
   "metadata": {},
   "source": [
    "The date for all texts are defined as the date Guilherme sent the dataset, 16th April, 2024."
   ]
  },
  {
   "cell_type": "code",
   "execution_count": 25,
   "id": "0baabff7-0f46-4d02-9073-618e6ade8446",
   "metadata": {},
   "outputs": [],
   "source": [
    "df_tweets_filtered['date'] = 'd:' + '2024-04-16'"
   ]
  },
  {
   "cell_type": "markdown",
   "id": "151a8832-8610-4203-96d2-13e907449491",
   "metadata": {},
   "source": [
    "### Creating column `text_url`"
   ]
  },
  {
   "cell_type": "markdown",
   "id": "f712f487-0bef-4a55-8797-7db10d805be6",
   "metadata": {},
   "source": [
    "No URL was considered for all texts."
   ]
  },
  {
   "cell_type": "code",
   "execution_count": 26,
   "id": "5a01cbe8-44e4-468a-b88f-6e2d62d9c486",
   "metadata": {},
   "outputs": [],
   "source": [
    "df_tweets_filtered['text_url'] = 'url:' + 'no_url'"
   ]
  },
  {
   "cell_type": "markdown",
   "id": "35df8ab5-4221-4f05-a231-98f20c743e80",
   "metadata": {},
   "source": [
    "### Creating column `user`"
   ]
  },
  {
   "cell_type": "markdown",
   "id": "409ad1d1-a46b-402e-bd15-9b74f9ab31a5",
   "metadata": {},
   "source": [
    "`silas_malafaia` was considered for all texts."
   ]
  },
  {
   "cell_type": "code",
   "execution_count": 27,
   "id": "931df388-ee75-4b39-9a6f-3142948dbdd2",
   "metadata": {},
   "outputs": [],
   "source": [
    "df_tweets_filtered['user'] = 'u:' + 'silas_malafaia'"
   ]
  },
  {
   "cell_type": "markdown",
   "id": "2c05b877-23b8-4f3c-a6c1-285c6b243645",
   "metadata": {},
   "source": [
    "### Creating column `content`"
   ]
  },
  {
   "cell_type": "code",
   "execution_count": 28,
   "id": "ad9ced8b-bb05-4c59-8ae7-170ba337a8ec",
   "metadata": {},
   "outputs": [],
   "source": [
    "df_tweets_filtered['content'] = 'c:' + df_tweets_filtered['text']"
   ]
  },
  {
   "cell_type": "markdown",
   "id": "0fcb9068-c3a5-41cc-a25c-a91b341778e9",
   "metadata": {},
   "source": [
    "### Reordering the created columns"
   ]
  },
  {
   "cell_type": "markdown",
   "id": "b24fe944-8293-49ee-b40a-c2472e6b6181",
   "metadata": {},
   "source": [
    "Please refer to:\n",
    "- [Python - List Comprehension 1](https://www.w3schools.com/python/python_lists_comprehension.asp)\n",
    "- [Python - List Comprehension 2](https://treyhunner.com/2015/12/python-list-comprehensions-now-in-color/)"
   ]
  },
  {
   "cell_type": "code",
   "execution_count": 29,
   "id": "e2f1c5e1-d748-45cc-9697-802e90c8ffdf",
   "metadata": {},
   "outputs": [],
   "source": [
    "# Reorder the columns (we use list comprehension to create a list of all columns except 'text_id', 'variable', 'date' and 'text_url')\n",
    "df_tweets_filtered = df_tweets_filtered[['text_id', 'conversation', 'date', 'text_url', 'user', 'content'] + [col for col in df_tweets_filtered.columns if col not in ['text_id', 'conversation', 'date', 'text_url', 'user', 'content']]]"
   ]
  },
  {
   "cell_type": "code",
   "execution_count": 30,
   "id": "fd049019-2e68-4859-828a-cd15f27e24c1",
   "metadata": {},
   "outputs": [
    {
     "data": {
      "text/html": [
       "<div>\n",
       "<style scoped>\n",
       "    .dataframe tbody tr th:only-of-type {\n",
       "        vertical-align: middle;\n",
       "    }\n",
       "\n",
       "    .dataframe tbody tr th {\n",
       "        vertical-align: top;\n",
       "    }\n",
       "\n",
       "    .dataframe thead th {\n",
       "        text-align: right;\n",
       "    }\n",
       "</style>\n",
       "<table border=\"1\" class=\"dataframe\">\n",
       "  <thead>\n",
       "    <tr style=\"text-align: right;\">\n",
       "      <th></th>\n",
       "      <th>text_id</th>\n",
       "      <th>conversation</th>\n",
       "      <th>date</th>\n",
       "      <th>text_url</th>\n",
       "      <th>user</th>\n",
       "      <th>content</th>\n",
       "      <th>text</th>\n",
       "      <th>filepath</th>\n",
       "    </tr>\n",
       "  </thead>\n",
       "  <tbody>\n",
       "    <tr>\n",
       "      <th>0</th>\n",
       "      <td>t000000</td>\n",
       "      <td>v:cl_st1_guilherme-dataset-output/MALAFAIA_RES...</td>\n",
       "      <td>d:2024-04-16</td>\n",
       "      <td>url:no_url</td>\n",
       "      <td>u:silas_malafaia</td>\n",
       "      <td>c:e a Bíblia é a verdade absoluta é a palavra ...</td>\n",
       "      <td>e a Bíblia é a verdade absoluta é a palavra de...</td>\n",
       "      <td>cl_st1_guilherme-dataset-output/MALAFAIA RESPO...</td>\n",
       "    </tr>\n",
       "    <tr>\n",
       "      <th>1</th>\n",
       "      <td>t000001</td>\n",
       "      <td>v:cl_st1_guilherme-dataset-output/MALAFAIA_RES...</td>\n",
       "      <td>d:2024-04-16</td>\n",
       "      <td>url:no_url</td>\n",
       "      <td>u:silas_malafaia</td>\n",
       "      <td>c:e eu não vou me calar por uma série de coisa...</td>\n",
       "      <td>e eu não vou me calar por uma série de coisas ...</td>\n",
       "      <td>cl_st1_guilherme-dataset-output/MALAFAIA RESPO...</td>\n",
       "    </tr>\n",
       "    <tr>\n",
       "      <th>2</th>\n",
       "      <td>t000002</td>\n",
       "      <td>v:cl_st1_guilherme-dataset-output/MALAFAIA_RES...</td>\n",
       "      <td>d:2024-04-16</td>\n",
       "      <td>url:no_url</td>\n",
       "      <td>u:silas_malafaia</td>\n",
       "      <td>c:eu vou dizer uma coisa para você que ele faz...</td>\n",
       "      <td>eu vou dizer uma coisa para você que ele faz e...</td>\n",
       "      <td>cl_st1_guilherme-dataset-output/MALAFAIA RESPO...</td>\n",
       "    </tr>\n",
       "    <tr>\n",
       "      <th>3</th>\n",
       "      <td>t000003</td>\n",
       "      <td>v:cl_st1_guilherme-dataset-output/MALAFAIA_RES...</td>\n",
       "      <td>d:2024-04-16</td>\n",
       "      <td>url:no_url</td>\n",
       "      <td>u:silas_malafaia</td>\n",
       "      <td>c:e decida salvar seu casamento sabe por quê P...</td>\n",
       "      <td>e decida salvar seu casamento sabe por quê Por...</td>\n",
       "      <td>cl_st1_guilherme-dataset-output/MALAFAIA RESPO...</td>\n",
       "    </tr>\n",
       "    <tr>\n",
       "      <th>4</th>\n",
       "      <td>t000004</td>\n",
       "      <td>v:cl_st1_guilherme-dataset-output/MOTIVACIONAL...</td>\n",
       "      <td>d:2024-04-16</td>\n",
       "      <td>url:no_url</td>\n",
       "      <td>u:silas_malafaia</td>\n",
       "      <td>c:e você vai ter que lutar para receber as pro...</td>\n",
       "      <td>e você vai ter que lutar para receber as prome...</td>\n",
       "      <td>cl_st1_guilherme-dataset-output/MOTIVACIONAL P...</td>\n",
       "    </tr>\n",
       "    <tr>\n",
       "      <th>...</th>\n",
       "      <td>...</td>\n",
       "      <td>...</td>\n",
       "      <td>...</td>\n",
       "      <td>...</td>\n",
       "      <td>...</td>\n",
       "      <td>...</td>\n",
       "      <td>...</td>\n",
       "      <td>...</td>\n",
       "    </tr>\n",
       "    <tr>\n",
       "      <th>1805</th>\n",
       "      <td>t001805</td>\n",
       "      <td>v:cl_st1_guilherme-dataset-output/MINUTOS_DE_V...</td>\n",
       "      <td>d:2024-04-16</td>\n",
       "      <td>url:no_url</td>\n",
       "      <td>u:silas_malafaia</td>\n",
       "      <td>c:a visão correta da vida você tem que ter um ...</td>\n",
       "      <td>a visão correta da vida você tem que ter um ol...</td>\n",
       "      <td>cl_st1_guilherme-dataset-output/MINUTOS DE VIT...</td>\n",
       "    </tr>\n",
       "    <tr>\n",
       "      <th>1806</th>\n",
       "      <td>t001806</td>\n",
       "      <td>v:cl_st1_guilherme-dataset-output/MINUTOS_DE_V...</td>\n",
       "      <td>d:2024-04-16</td>\n",
       "      <td>url:no_url</td>\n",
       "      <td>u:silas_malafaia</td>\n",
       "      <td>c:conseguiu garantir só você tem que entender ...</td>\n",
       "      <td>conseguiu garantir só você tem que entender al...</td>\n",
       "      <td>cl_st1_guilherme-dataset-output/MINUTOS DE VIT...</td>\n",
       "    </tr>\n",
       "    <tr>\n",
       "      <th>1807</th>\n",
       "      <td>t001807</td>\n",
       "      <td>v:cl_st1_guilherme-dataset-output/MINUTOS_DE_V...</td>\n",
       "      <td>d:2024-04-16</td>\n",
       "      <td>url:no_url</td>\n",
       "      <td>u:silas_malafaia</td>\n",
       "      <td>c:é o desafio de vencer a nossa natureza a cha...</td>\n",
       "      <td>é o desafio de vencer a nossa natureza a chama...</td>\n",
       "      <td>cl_st1_guilherme-dataset-output/MINUTOS DE VIT...</td>\n",
       "    </tr>\n",
       "    <tr>\n",
       "      <th>1808</th>\n",
       "      <td>t001808</td>\n",
       "      <td>v:cl_st1_guilherme-dataset-output/MINUTOS_DE_V...</td>\n",
       "      <td>d:2024-04-16</td>\n",
       "      <td>url:no_url</td>\n",
       "      <td>u:silas_malafaia</td>\n",
       "      <td>c:características de quem quer produzir obras ...</td>\n",
       "      <td>características de quem quer produzir obras de...</td>\n",
       "      <td>cl_st1_guilherme-dataset-output/MINUTOS DE VIT...</td>\n",
       "    </tr>\n",
       "    <tr>\n",
       "      <th>1809</th>\n",
       "      <td>t001809</td>\n",
       "      <td>v:cl_st1_guilherme-dataset-output/MINUTOS_DE_V...</td>\n",
       "      <td>d:2024-04-16</td>\n",
       "      <td>url:no_url</td>\n",
       "      <td>u:silas_malafaia</td>\n",
       "      <td>c:Considere isso que eu vou te falar sobre a q...</td>\n",
       "      <td>Considere isso que eu vou te falar sobre a que...</td>\n",
       "      <td>cl_st1_guilherme-dataset-output/MINUTOS DE VIT...</td>\n",
       "    </tr>\n",
       "  </tbody>\n",
       "</table>\n",
       "<p>1810 rows × 8 columns</p>\n",
       "</div>"
      ],
      "text/plain": [
       "      text_id                                       conversation  \\\n",
       "0     t000000  v:cl_st1_guilherme-dataset-output/MALAFAIA_RES...   \n",
       "1     t000001  v:cl_st1_guilherme-dataset-output/MALAFAIA_RES...   \n",
       "2     t000002  v:cl_st1_guilherme-dataset-output/MALAFAIA_RES...   \n",
       "3     t000003  v:cl_st1_guilherme-dataset-output/MALAFAIA_RES...   \n",
       "4     t000004  v:cl_st1_guilherme-dataset-output/MOTIVACIONAL...   \n",
       "...       ...                                                ...   \n",
       "1805  t001805  v:cl_st1_guilherme-dataset-output/MINUTOS_DE_V...   \n",
       "1806  t001806  v:cl_st1_guilherme-dataset-output/MINUTOS_DE_V...   \n",
       "1807  t001807  v:cl_st1_guilherme-dataset-output/MINUTOS_DE_V...   \n",
       "1808  t001808  v:cl_st1_guilherme-dataset-output/MINUTOS_DE_V...   \n",
       "1809  t001809  v:cl_st1_guilherme-dataset-output/MINUTOS_DE_V...   \n",
       "\n",
       "              date    text_url              user  \\\n",
       "0     d:2024-04-16  url:no_url  u:silas_malafaia   \n",
       "1     d:2024-04-16  url:no_url  u:silas_malafaia   \n",
       "2     d:2024-04-16  url:no_url  u:silas_malafaia   \n",
       "3     d:2024-04-16  url:no_url  u:silas_malafaia   \n",
       "4     d:2024-04-16  url:no_url  u:silas_malafaia   \n",
       "...            ...         ...               ...   \n",
       "1805  d:2024-04-16  url:no_url  u:silas_malafaia   \n",
       "1806  d:2024-04-16  url:no_url  u:silas_malafaia   \n",
       "1807  d:2024-04-16  url:no_url  u:silas_malafaia   \n",
       "1808  d:2024-04-16  url:no_url  u:silas_malafaia   \n",
       "1809  d:2024-04-16  url:no_url  u:silas_malafaia   \n",
       "\n",
       "                                                content  \\\n",
       "0     c:e a Bíblia é a verdade absoluta é a palavra ...   \n",
       "1     c:e eu não vou me calar por uma série de coisa...   \n",
       "2     c:eu vou dizer uma coisa para você que ele faz...   \n",
       "3     c:e decida salvar seu casamento sabe por quê P...   \n",
       "4     c:e você vai ter que lutar para receber as pro...   \n",
       "...                                                 ...   \n",
       "1805  c:a visão correta da vida você tem que ter um ...   \n",
       "1806  c:conseguiu garantir só você tem que entender ...   \n",
       "1807  c:é o desafio de vencer a nossa natureza a cha...   \n",
       "1808  c:características de quem quer produzir obras ...   \n",
       "1809  c:Considere isso que eu vou te falar sobre a q...   \n",
       "\n",
       "                                                   text  \\\n",
       "0     e a Bíblia é a verdade absoluta é a palavra de...   \n",
       "1     e eu não vou me calar por uma série de coisas ...   \n",
       "2     eu vou dizer uma coisa para você que ele faz e...   \n",
       "3     e decida salvar seu casamento sabe por quê Por...   \n",
       "4     e você vai ter que lutar para receber as prome...   \n",
       "...                                                 ...   \n",
       "1805  a visão correta da vida você tem que ter um ol...   \n",
       "1806  conseguiu garantir só você tem que entender al...   \n",
       "1807  é o desafio de vencer a nossa natureza a chama...   \n",
       "1808  características de quem quer produzir obras de...   \n",
       "1809  Considere isso que eu vou te falar sobre a que...   \n",
       "\n",
       "                                               filepath  \n",
       "0     cl_st1_guilherme-dataset-output/MALAFAIA RESPO...  \n",
       "1     cl_st1_guilherme-dataset-output/MALAFAIA RESPO...  \n",
       "2     cl_st1_guilherme-dataset-output/MALAFAIA RESPO...  \n",
       "3     cl_st1_guilherme-dataset-output/MALAFAIA RESPO...  \n",
       "4     cl_st1_guilherme-dataset-output/MOTIVACIONAL P...  \n",
       "...                                                 ...  \n",
       "1805  cl_st1_guilherme-dataset-output/MINUTOS DE VIT...  \n",
       "1806  cl_st1_guilherme-dataset-output/MINUTOS DE VIT...  \n",
       "1807  cl_st1_guilherme-dataset-output/MINUTOS DE VIT...  \n",
       "1808  cl_st1_guilherme-dataset-output/MINUTOS DE VIT...  \n",
       "1809  cl_st1_guilherme-dataset-output/MINUTOS DE VIT...  \n",
       "\n",
       "[1810 rows x 8 columns]"
      ]
     },
     "execution_count": 30,
     "metadata": {},
     "output_type": "execute_result"
    }
   ],
   "source": [
    "df_tweets_filtered"
   ]
  },
  {
   "cell_type": "markdown",
   "id": "595209f2-7232-44fd-9cae-8f390da0144d",
   "metadata": {},
   "source": [
    "### Creating the file `file_index.txt`"
   ]
  },
  {
   "cell_type": "code",
   "execution_count": 31,
   "id": "0f142562-c04f-4f6e-9bee-d0687762397d",
   "metadata": {},
   "outputs": [],
   "source": [
    "df_tweets_filtered[['text_id', 'conversation', 'date', 'text_url']].to_csv('file_index.txt', sep=' ', index=False, header=False, encoding='utf-8', lineterminator='\\n')"
   ]
  },
  {
   "cell_type": "markdown",
   "id": "aaf8f5f1-a8ff-4eda-9c71-f47aef7020e0",
   "metadata": {},
   "source": [
    "### Creating the file `tweets.txt`"
   ]
  },
  {
   "cell_type": "code",
   "execution_count": 32,
   "id": "9548bb29-9cd1-46cd-9707-0cc004e84899",
   "metadata": {},
   "outputs": [
    {
     "name": "stdout",
     "output_type": "stream",
     "text": [
      "Folder tweets already exists\n"
     ]
    }
   ],
   "source": [
    "folder = 'tweets'\n",
    "try:\n",
    "    os.mkdir(folder)\n",
    "    print(f'Folder {folder} created!')\n",
    "except FileExistsError:\n",
    "    print(f'Folder {folder} already exists')"
   ]
  },
  {
   "cell_type": "markdown",
   "id": "e3aaaa41-ca4e-4102-95dc-ccdf589fed9a",
   "metadata": {},
   "source": [
    "Note: The parameters `doublequote=False` and `escapechar=' '` are required to avoid that the column content is doublequoted with '\"' in sentences that use characters that need to be escaped such as double quote '\"' itself - this causes a malformed response from TreeTagger."
   ]
  },
  {
   "cell_type": "code",
   "execution_count": 33,
   "id": "ca8211a3-ea0d-45b8-a911-bc178b703a52",
   "metadata": {},
   "outputs": [],
   "source": [
    "df_tweets_filtered[['text_id', 'conversation', 'date', 'user', 'content']].to_csv(f'{folder}/tweets.txt', sep='|', index=False, header=False, encoding='utf-8', lineterminator='\\n', doublequote=False, escapechar=' ')"
   ]
  },
  {
   "cell_type": "markdown",
   "id": "2f769843-4ff9-4436-a2e0-d61e2c391e9d",
   "metadata": {},
   "source": [
    "## Tagging with TreeTagger"
   ]
  },
  {
   "cell_type": "markdown",
   "id": "f3877be9-6317-42ee-8e8d-c15c48f77996",
   "metadata": {},
   "source": [
    "- On Visual Studio Code (VS Code), open the folder where your project is located with `Open Folder...`\n",
    "- Open a WSL Ubuntu Terminal on VS Code\n",
    "- **Important**: Activate the `my_env` Python environment by executing `source \"$HOME\"/my_env/bin/activate`\n",
    "- Proceed as indicated"
   ]
  },
  {
   "cell_type": "markdown",
   "id": "720724ab-5e77-4e9e-b05a-24cf73259cd0",
   "metadata": {},
   "source": [
    "Purpose: Annotate the texts in `tweets/tweets.txt` with part-of-speech and lemma information.\n",
    "- Input\n",
    "    - `file_index.txt`\n",
    "    - `tweets/tweets.txt`\n",
    "- Output\n",
    "    - `tweets/tagged.txt`"
   ]
  },
  {
   "cell_type": "markdown",
   "id": "9005cc09-f5ef-454f-9b74-4d7ca9fe4f10",
   "metadata": {
    "vscode": {
     "languageId": "raw"
    }
   },
   "source": [
    "```\n",
    "eyamrog@Rog-ASUS:/mnt/c/Users/eyamr/Downloads$ source \"$HOME\"/my_env/bin/activate\n",
    "(my_env) eyamrog@Rog-ASUS:/mnt/c/Users/eyamr/Downloads$ bash treetagging.sh\n",
    "--- treetagging t000000 / t018205 ---\n",
    "        reading parameters ...\n",
    "        tagging ...\n",
    "         finished.\n",
    "--- treetagging t000001 / t018205 ---\n",
    "        reading parameters ...\n",
    "        tagging ...\n",
    "         finished.\n",
    "--- treetagging t000002 / t018205 ---\n",
    "        reading parameters ...\n",
    "        tagging ...\n",
    "         finished.\n",
    "--- treetagging t000003 / t018205 ---\n",
    "        reading parameters ...\n",
    "        tagging ...\n",
    "         finished.\n",
    "<omitted>\n",
    "```"
   ]
  },
  {
   "cell_type": "markdown",
   "id": "fa0060ba-d01c-4e48-a353-8c9ba0fc456e",
   "metadata": {},
   "source": [
    "## Processing `tokenstypes`"
   ]
  },
  {
   "cell_type": "markdown",
   "id": "93351bf2-3457-4b47-8a47-7ff13c4e0e1a",
   "metadata": {},
   "source": [
    "Purpose: Capture the content tokens (specific occurrences of words) and the content types (general concept of words) from `tweets/tagged.txt`.\n",
    "- Input\n",
    "    - `file_index.txt`\n",
    "    - `tweets/tagged.txt`\n",
    "- Output\n",
    "    - `tweets/tokens.txt`\n",
    "    - `tweets/types.txt`"
   ]
  },
  {
   "cell_type": "markdown",
   "id": "6cddc717-8ff2-4f38-ae10-8d6616de6a6c",
   "metadata": {
    "vscode": {
     "languageId": "raw"
    }
   },
   "source": [
    "```\n",
    "eyamrog@Rog-ASUS:/mnt/c/Users/eyamr/Downloads$ source \"$HOME\"/my_env/bin/activate\n",
    "(my_env) eyamrog@Rog-ASUS:/mnt/c/Users/eyamr/Downloads$ bash tokenstypes.sh\n",
    "--- tokenstypes t000000 / 18206 ---\n",
    "--- tokenstypes t000001 / 18206 ---\n",
    "--- tokenstypes t000002 / 18206 ---\n",
    "--- tokenstypes t000003 / 18206 ---\n",
    "--- tokenstypes t000004 / 18206 ---\n",
    "--- tokenstypes t000005 / 18206 ---\n",
    "<omitted>\n",
    "```"
   ]
  },
  {
   "cell_type": "markdown",
   "id": "ef598329-fb5a-4b07-8799-b2bbb55847f1",
   "metadata": {},
   "source": [
    "## Processing `toplemmas`"
   ]
  },
  {
   "cell_type": "markdown",
   "id": "79ce5796-0434-44d5-88e2-8f934a6cebc8",
   "metadata": {},
   "source": [
    "Purpose: Determine the 1.000 top lemmas. **Important**: This process requires manual inspection. Non-meaningful lemmas should be excluded by updating `stoplist.sed` and reiterating the processing.\n",
    "- Input\n",
    "    - `tweets/types.txt`\n",
    "    - `stoplist.sed`: List of rules that allows the exclusion of a certain lemmas\n",
    "- Output\n",
    "    - `selectedwords` = `var_index.txt`"
   ]
  },
  {
   "cell_type": "markdown",
   "id": "13b0fc8e-73e2-4e2d-9e2f-73068e4132fc",
   "metadata": {
    "vscode": {
     "languageId": "raw"
    }
   },
   "source": [
    "```\n",
    "eyamrog@Rog-ASUS:/mnt/c/Users/eyamr/Downloads$ source \"$HOME\"/my_env/bin/activate\n",
    "(my_env) eyamrog@Rog-ASUS:/mnt/c/Users/eyamr/Downloads$ bash toplemmas.sh\n",
    "```"
   ]
  },
  {
   "cell_type": "markdown",
   "id": "eb0a4675-5067-4e8b-8ca8-baf9f1b915c1",
   "metadata": {},
   "source": [
    "## Processing `sas`"
   ]
  },
  {
   "cell_type": "markdown",
   "id": "b0d158b2-73d7-477e-a7a7-2b87216a19ae",
   "metadata": {},
   "source": [
    "Purpose: Prepare input data for processing in SAS.\n",
    "- Input\n",
    "    - `tweets/types.txt`\n",
    "    - `selectedwords`\n",
    "    - `file_index.txt`\n",
    "- Output\n",
    "    - `columns`\n",
    "    - `sas/data.txt`\n",
    "    - `sas/dates.txt`\n",
    "    - `sas/wcount.txt`"
   ]
  },
  {
   "cell_type": "markdown",
   "id": "0d250d29-861c-41a6-9793-e0df758100e0",
   "metadata": {
    "vscode": {
     "languageId": "raw"
    }
   },
   "source": [
    "```\n",
    "eyamrog@Rog-ASUS:/mnt/c/Users/eyamr/Downloads$ source \"$HOME\"/my_env/bin/activate\n",
    "(my_env) eyamrog@Rog-ASUS:/mnt/c/Users/eyamr/Downloads$ bash sas.sh\n",
    "--- v000001 ---\n",
    "--- v000002 ---\n",
    "--- v000003 ---\n",
    "--- v000004 ---\n",
    "--- v000005 ---\n",
    "<omitted>\n",
    "--- v001000 ---\n",
    "[nltk_data] Downloading package punkt to /home/eyamrog/nltk_data...\n",
    "[nltk_data]   Package punkt is already up-to-date!\n",
    "Word counts written to sas/wcount.txt\n",
    "```"
   ]
  },
  {
   "cell_type": "markdown",
   "id": "0e8087ea-ffd4-43b9-8eda-4444b931c319",
   "metadata": {},
   "source": [
    "## Processing `datamatrix`"
   ]
  },
  {
   "cell_type": "markdown",
   "id": "b4374f48-04b6-48af-a31d-125ef0e85972",
   "metadata": {},
   "source": [
    "Purpose: Prepares input data for calculating the correlation matrix.\n",
    "- Input\n",
    "    - `file_index.txt`\n",
    "    - `columns`\n",
    "    - `selectedwords`\n",
    "- Output\n",
    "    - `file_ids.txt`\n",
    "    - `data.csv`"
   ]
  },
  {
   "cell_type": "markdown",
   "id": "23925f09-05ef-44a5-ba48-78cac1dedc76",
   "metadata": {
    "vscode": {
     "languageId": "raw"
    }
   },
   "source": [
    "```\n",
    "eyamrog@Rog-ASUS:/mnt/c/Users/eyamr/Downloads$ source \"$HOME\"/my_env/bin/activate\n",
    "(my_env) eyamrog@Rog-ASUS:/mnt/c/Users/eyamr/Downloads$ bash datamatrix.sh\n",
    "--- v000001 ---\n",
    "--- v000002 ---\n",
    "--- v000003 ---\n",
    "--- v000004 ---\n",
    "--- v000005 ---\n",
    "<omitted>\n",
    "--- v001000 ---\n",
    "--- data.csv ...---\n",
    "```"
   ]
  },
  {
   "cell_type": "markdown",
   "id": "6130e8f0-a7e5-4f6e-b427-090f7cda4856",
   "metadata": {},
   "source": [
    "## Processing `correlationmatrix`"
   ]
  },
  {
   "cell_type": "markdown",
   "id": "8bddbb87-b4de-4c41-8177-b2f677d803b6",
   "metadata": {},
   "source": [
    "Purpose: Calculates the correlation matrix.\n",
    "- Input\n",
    "    - `data.csv`\n",
    "- Output\n",
    "    - `correlation`"
   ]
  },
  {
   "cell_type": "markdown",
   "id": "42927846-5d87-4f5f-8ce6-8beb4ef733a4",
   "metadata": {
    "vscode": {
     "languageId": "raw"
    }
   },
   "source": [
    "```\n",
    "eyamrog@Rog-ASUS:/mnt/c/Users/eyamr/Downloads$ source \"$HOME\"/my_env/bin/activate\n",
    "(my_env) eyamrog@Rog-ASUS:/mnt/c/Users/eyamr/Downloads$ bash correlationmatrix.sh\n",
    "--- python correlation ... ---\n",
    "```"
   ]
  },
  {
   "cell_type": "markdown",
   "id": "86e9203f-e9e1-4a73-8bed-7dec1ad8617e",
   "metadata": {},
   "source": [
    "## Processing `formats`"
   ]
  },
  {
   "cell_type": "markdown",
   "id": "69517100-c28d-44ba-90a7-37988e3df8ad",
   "metadata": {},
   "source": [
    "Purpose: Prepare input data for processing in SAS.\n",
    "- Input\n",
    "    - `data.csv`\n",
    "    - `selectedwords`\n",
    "- Output\n",
    "    - `sas/corr.txt`\n",
    "    - `sas/word_labels_format.sas`"
   ]
  },
  {
   "cell_type": "markdown",
   "id": "96f9b02f-fd33-4ff2-bf57-463fac9743e6",
   "metadata": {
    "vscode": {
     "languageId": "raw"
    }
   },
   "source": [
    "```\n",
    "eyamrog@Rog-ASUS:/mnt/c/Users/eyamr/Downloads$ source \"$HOME\"/my_env/bin/activate\n",
    "(my_env) eyamrog@Rog-ASUS:/mnt/c/Users/eyamr/Downloads$ bash formats.sh\n",
    "--- sas/sas/corr.txt ---\n",
    "--- sas/word_labels_format.sas ---\n",
    "```"
   ]
  },
  {
   "cell_type": "markdown",
   "id": "c322cbac-cd18-4420-a4b1-6bdcab8d880e",
   "metadata": {},
   "source": [
    "## Processing the statistical procedures on SAS"
   ]
  },
  {
   "cell_type": "markdown",
   "id": "f1e61189-3aa3-4d7a-b8f2-ca9e78465ddc",
   "metadata": {},
   "source": [
    "- Log in to your [SAS OnDemand for Academics](https://welcome.oda.sas.com/) account\n",
    "- Proceed as indicated in this [video tutorial](https://youtu.be/I3u9zD3jyOA?si=68uIKVc2iusGG2KY)"
   ]
  },
  {
   "cell_type": "markdown",
   "id": "4d656a17-6cc2-409a-8cc0-b500a11b2581",
   "metadata": {},
   "source": [
    "## Processing `examples`"
   ]
  },
  {
   "cell_type": "markdown",
   "id": "74fe92f1-8083-46d7-b31d-1c43c35fe488",
   "metadata": {},
   "source": [
    "Purpose: Extract examples for analysis.\n",
    "- Input\n",
    "    - `sas/output_\"$project\"/loadtable.html`\n",
    "    - `sas/output_\"$project\"/\"$project\"_scores.tsv`\n",
    "    - `sas/output_\"$project\"/\"$project\"_scores_only.tsv`\n",
    "- Output\n",
    "    - `examples/factors`\n",
    "    - `example files`"
   ]
  },
  {
   "cell_type": "markdown",
   "id": "530850e1-a9ba-43f8-b542-ad5a0e3a4534",
   "metadata": {
    "vscode": {
     "languageId": "raw"
    }
   },
   "source": [
    "```\n",
    "(my_env) eyamrog@Rog-ASUS:/mnt/c/Users/eyamr/Downloads$ bash examples.sh\n",
    "6780\n",
    "1246\n",
    "698\n",
    "123\n",
    "--- examples f1pos ---\n",
    "--- factor 1 pos # 000001 ---\n",
    "tr: warning: an unescaped backslash at end of string is not portable\n",
    "--- factor 1 pos # 000002 ---\n",
    "tr: warning: an unescaped backslash at end of string is not portable\n",
    "--- factor 1 pos # 000003 ---\n",
    "tr: warning: an unescaped backslash at end of string is not portable\n",
    "--- factor 1 pos # 000004 ---\n",
    "tr: warning: an unescaped backslash at end of string is not portable\n",
    "--- factor 1 pos # 000005 ---\n",
    "tr: warning: an unescaped backslash at end of string is not portable\n",
    "<ommitted>\n",
    "```"
   ]
  },
  {
   "cell_type": "markdown",
   "id": "cd38617b-0487-4ba2-b619-d9b78aba9f2c",
   "metadata": {},
   "source": [
    "## Results"
   ]
  },
  {
   "cell_type": "markdown",
   "id": "cf501e4a-1193-4999-bdc0-88c08d2840f7",
   "metadata": {},
   "source": [
    "Right-click on the link and choose `Open link in a new tab` to download the corresponding file."
   ]
  },
  {
   "cell_type": "markdown",
   "id": "4e73ba45-9d6c-4578-b14e-c80c3ccaafe4",
   "metadata": {},
   "source": [
    "- [CL_St1_Querem_Results.zip](https://pucsp-my.sharepoint.com/:u:/g/personal/ra00341729_pucsp_edu_br/ERbP8OEqscBJlh4l6s6_UFgBTUGtnR6PDI1NXZwVBh6Dyg?e=W8YXpq)"
   ]
  },
  {
   "cell_type": "code",
   "execution_count": null,
   "id": "bb169464-4f29-4513-b272-46f201deff17",
   "metadata": {},
   "outputs": [],
   "source": []
  }
 ],
 "metadata": {
  "kernelspec": {
   "display_name": "Python 3 (ipykernel)",
   "language": "python",
   "name": "python3"
  },
  "language_info": {
   "codemirror_mode": {
    "name": "ipython",
    "version": 3
   },
   "file_extension": ".py",
   "mimetype": "text/x-python",
   "name": "python",
   "nbconvert_exporter": "python",
   "pygments_lexer": "ipython3",
   "version": "3.10.12"
  }
 },
 "nbformat": 4,
 "nbformat_minor": 5
}
